{
 "cells": [
  {
   "cell_type": "markdown",
   "metadata": {},
   "source": [
    "# WeatherPy\n",
    "----\n",
    "\n",
    "#### Note\n",
    "* Instructions have been included for each segment. You do not have to follow them exactly, but they are included to help you think through the steps."
   ]
  },
  {
   "cell_type": "code",
   "execution_count": 15,
   "metadata": {
    "scrolled": true
   },
   "outputs": [],
   "source": [
    "# Dependencies and Setup\n",
    "import matplotlib.pyplot as plt\n",
    "import pandas as pd\n",
    "import numpy as np\n",
    "import requests\n",
    "import time\n",
    "from scipy.stats import linregress\n",
    "from scipy import stats\n",
    "\n",
    "# Import API key\n",
    "from api_keys import weather_api_key\n",
    "\n",
    "# Incorporated citipy to determine city based on latitude and longitude\n",
    "from citipy import citipy\n",
    "\n",
    "# Output File (CSV)\n",
    "output_data_file = \"../output_data.csv\"\n",
    "\n",
    "# Range of latitudes and longitudes\n",
    "lat_range = (-90, 90)\n",
    "lng_range = (-180, 180)"
   ]
  },
  {
   "cell_type": "markdown",
   "metadata": {},
   "source": [
    "## Generate Cities List"
   ]
  },
  {
   "cell_type": "code",
   "execution_count": 2,
   "metadata": {},
   "outputs": [
    {
     "data": {
      "text/plain": [
       "623"
      ]
     },
     "execution_count": 2,
     "metadata": {},
     "output_type": "execute_result"
    }
   ],
   "source": [
    "# List for holding lat_lngs and cities\n",
    "lat_lngs = []\n",
    "cities = []\n",
    "\n",
    "# Create a set of random lat and lng combinations\n",
    "lats = np.random.uniform(lat_range[0], lat_range[1], size=1500)\n",
    "lngs = np.random.uniform(lng_range[0], lng_range[1], size=1500)\n",
    "lat_lngs = zip(lats, lngs)\n",
    "\n",
    "# Identify nearest city for each lat, lng combination\n",
    "for lat_lng in lat_lngs:\n",
    "    city = citipy.nearest_city(lat_lng[0], lat_lng[1]).city_name\n",
    "    \n",
    "    # If the city is unique, then add it to a our cities list\n",
    "    if city not in cities:\n",
    "        cities.append(city)\n",
    "\n",
    "# Print the city count to confirm sufficient count\n",
    "len(cities)\n",
    "\n"
   ]
  },
  {
   "cell_type": "markdown",
   "metadata": {},
   "source": [
    "### Perform API Calls\n",
    "* Perform a weather check on each city using a series of successive API calls.\n",
    "* Include a print log of each city as it'sbeing processed (with the city number and city name).\n"
   ]
  },
  {
   "cell_type": "code",
   "execution_count": 4,
   "metadata": {
    "scrolled": true
   },
   "outputs": [
    {
     "name": "stdout",
     "output_type": "stream",
     "text": [
      "Processing Record1: conde\n",
      "Processing Record2: new norfolk\n",
      "Processing Record3: busselton\n",
      "Processing Record4: avera\n",
      "City is not found. Skip\n",
      "Processing Record6: nome\n",
      "Processing Record7: barrow\n",
      "Processing Record8: egvekinot\n",
      "City is not found. Skip\n",
      "Processing Record10: bluff\n",
      "Processing Record11: ushuaia\n",
      "Processing Record12: dalvik\n",
      "City is not found. Skip\n",
      "Processing Record14: antalaha\n",
      "Processing Record15: hokitika\n",
      "Processing Record16: jamestown\n",
      "Processing Record17: beyneu\n",
      "Processing Record18: fare\n",
      "Processing Record19: chatham\n",
      "Processing Record20: abu zabad\n",
      "Processing Record21: dombarovskiy\n",
      "Processing Record22: upernavik\n",
      "Processing Record23: bethel\n",
      "Processing Record24: dunedin\n",
      "Processing Record25: mahebourg\n",
      "City is not found. Skip\n",
      "Processing Record27: palmer\n",
      "City is not found. Skip\n",
      "Processing Record29: hobart\n",
      "Processing Record30: cabo san lucas\n",
      "Processing Record31: punta arenas\n",
      "Processing Record32: khatanga\n",
      "Processing Record33: bani walid\n",
      "Processing Record34: portland\n",
      "Processing Record35: carnarvon\n",
      "Processing Record36: rikitea\n",
      "City is not found. Skip\n",
      "Processing Record38: rio gallegos\n",
      "Processing Record39: lubao\n",
      "Processing Record40: vaini\n",
      "Processing Record41: bredasdorp\n",
      "Processing Record42: axim\n",
      "Processing Record43: mar del plata\n",
      "Processing Record44: salalah\n",
      "Processing Record45: ribeira grande\n",
      "Processing Record46: vao\n",
      "Processing Record47: airai\n",
      "Processing Record48: norman wells\n",
      "Processing Record49: yeppoon\n",
      "Processing Record50: saskylakh\n",
      "Processing Record51: puerto ayora\n",
      "Processing Record52: tura\n",
      "Processing Record53: pekan\n",
      "Processing Record54: kibre mengist\n",
      "Processing Record55: sisimiut\n",
      "Processing Record56: richards bay\n",
      "Processing Record57: margate\n",
      "Processing Record58: albany\n",
      "Processing Record59: avarua\n",
      "Processing Record60: zbarazh\n",
      "Processing Record61: leiyang\n",
      "Processing Record62: bom jardim\n",
      "Processing Record63: leningradskiy\n",
      "Processing Record64: saint-georges\n",
      "Processing Record65: qaanaaq\n",
      "City is not found. Skip\n",
      "Processing Record67: tuatapere\n",
      "Processing Record68: udachnyy\n",
      "Processing Record69: kutoarjo\n",
      "Processing Record70: castro\n",
      "Processing Record71: port alfred\n",
      "Processing Record72: tiksi\n",
      "Processing Record73: port elizabeth\n",
      "Processing Record74: the pas\n",
      "Processing Record75: pitimbu\n",
      "Processing Record76: sembe\n",
      "Processing Record77: pushkino\n",
      "Processing Record78: lyaskelya\n",
      "Processing Record79: ahipara\n",
      "Processing Record80: nyurba\n",
      "Processing Record81: san miguel\n",
      "Processing Record82: port lincoln\n",
      "Processing Record83: kamariotissa\n",
      "Processing Record84: mataura\n",
      "Processing Record85: hermanus\n",
      "Processing Record86: yellowknife\n",
      "Processing Record87: bathsheba\n",
      "Processing Record88: osoyoos\n",
      "City is not found. Skip\n",
      "Processing Record90: kodiak\n",
      "Processing Record91: ancud\n",
      "Processing Record92: kruisfontein\n",
      "Processing Record93: kapaa\n",
      "Processing Record94: east london\n",
      "City is not found. Skip\n",
      "Processing Record96: luderitz\n",
      "Processing Record97: launceston\n",
      "Processing Record98: cape town\n",
      "Processing Record99: saint-philippe\n",
      "Processing Record100: darhan\n",
      "Processing Record101: narsaq\n",
      "Processing Record102: chokurdakh\n",
      "Processing Record103: honningsvag\n",
      "Processing Record104: eganville\n",
      "Processing Record105: nuevitas\n",
      "City is not found. Skip\n",
      "Processing Record107: bambous virieux\n",
      "Processing Record108: souillac\n",
      "City is not found. Skip\n",
      "Processing Record110: fortuna\n",
      "Processing Record111: oyama\n",
      "Processing Record112: komsomolskiy\n",
      "Processing Record113: saldanha\n",
      "Processing Record114: tuktoyaktuk\n",
      "Processing Record115: bukachacha\n",
      "Processing Record116: hofn\n",
      "Processing Record117: chuy\n",
      "Processing Record118: prince rupert\n",
      "Processing Record119: ransang\n",
      "Processing Record120: ostrovnoy\n",
      "Processing Record121: vanimo\n",
      "Processing Record122: iqaluit\n",
      "Processing Record123: arraial do cabo\n",
      "Processing Record124: hithadhoo\n",
      "Processing Record125: thompson\n",
      "Processing Record126: mindelo\n",
      "Processing Record127: upata\n",
      "City is not found. Skip\n",
      "Processing Record129: provideniya\n",
      "Processing Record130: cooma\n",
      "Processing Record131: bud\n",
      "Processing Record132: corowa\n",
      "Processing Record133: atuona\n",
      "Processing Record134: poya\n",
      "Processing Record135: saint george\n",
      "Processing Record136: lethem\n",
      "Processing Record137: ternate\n",
      "Processing Record138: hilo\n",
      "City is not found. Skip\n",
      "Processing Record140: tilichiki\n",
      "Processing Record141: husavik\n",
      "City is not found. Skip\n",
      "Processing Record143: tabas\n",
      "Processing Record144: san patricio\n",
      "Processing Record145: pagudpud\n",
      "Processing Record146: batagay-alyta\n",
      "Processing Record147: louis trichardt\n",
      "Processing Record148: canico\n",
      "City is not found. Skip\n",
      "Processing Record150: ixtapa\n",
      "Processing Record151: elizabeth city\n",
      "Processing Record152: codrington\n",
      "Processing Record153: mount isa\n",
      "City is not found. Skip\n",
      "Processing Record155: pacific grove\n",
      "Processing Record156: houma\n",
      "Processing Record157: touros\n",
      "Processing Record158: chicama\n",
      "Processing Record159: ayorou\n",
      "City is not found. Skip\n",
      "Processing Record161: karratha\n",
      "Processing Record162: san jose de rio tinto\n",
      "Processing Record163: yar-sale\n",
      "Processing Record164: papetoai\n",
      "Processing Record165: svetlyy\n",
      "Processing Record166: lavrentiya\n",
      "Processing Record167: bhilwara\n",
      "Processing Record168: camocim\n",
      "Processing Record169: sao filipe\n",
      "Processing Record170: betong\n",
      "Processing Record171: georgetown\n",
      "Processing Record172: teruel\n",
      "Processing Record173: longyearbyen\n",
      "Processing Record174: ustka\n",
      "Processing Record175: oussouye\n",
      "Processing Record176: paracatu\n",
      "Processing Record177: nalut\n",
      "Processing Record178: goundam\n",
      "Processing Record179: katsuura\n",
      "Processing Record180: muros\n",
      "Processing Record181: toora-khem\n",
      "Processing Record182: irece\n",
      "Processing Record183: bengkulu\n",
      "Processing Record184: dawson creek\n",
      "Processing Record185: virginia beach\n",
      "Processing Record186: chumikan\n",
      "Processing Record187: kiama\n",
      "Processing Record188: qaqortoq\n",
      "Processing Record189: lyubar\n",
      "Processing Record190: tautira\n",
      "Processing Record191: buala\n",
      "Processing Record192: erdenet\n",
      "Processing Record193: coquimbo\n",
      "Processing Record194: wewak\n",
      "Processing Record195: la asuncion\n",
      "Processing Record196: shingu\n",
      "Processing Record197: butaritari\n",
      "Processing Record198: bend\n",
      "Processing Record199: merauke\n",
      "Processing Record200: ponta do sol\n",
      "Processing Record201: puri\n",
      "Processing Record202: westport\n",
      "Processing Record203: dikson\n",
      "City is not found. Skip\n",
      "Processing Record205: wasilla\n",
      "Processing Record206: twentynine palms\n",
      "Processing Record207: gushi\n",
      "City is not found. Skip\n",
      "Processing Record209: grindavik\n",
      "Processing Record210: masvingo\n",
      "Processing Record211: meulaboh\n",
      "Processing Record212: korla\n",
      "Processing Record213: alofi\n",
      "Processing Record214: buin\n",
      "Processing Record215: nayudupeta\n",
      "Processing Record216: pevek\n",
      "Processing Record217: dudinka\n",
      "Processing Record218: lebu\n",
      "Processing Record219: male\n",
      "Processing Record220: comodoro rivadavia\n",
      "Processing Record221: sao joao da barra\n",
      "Processing Record222: severo-kurilsk\n",
      "City is not found. Skip\n",
      "Processing Record224: tasiilaq\n",
      "Processing Record225: leh\n",
      "Processing Record226: torbay\n",
      "City is not found. Skip\n",
      "Processing Record228: manoel urbano\n",
      "Processing Record229: vostok\n",
      "City is not found. Skip\n",
      "Processing Record231: sile\n",
      "Processing Record232: klaksvik\n",
      "Processing Record233: segezha\n",
      "Processing Record234: concepcion\n",
      "Processing Record235: constitucion\n",
      "Processing Record236: acarau\n",
      "Processing Record237: gat\n",
      "Processing Record238: de aar\n",
      "Processing Record239: nikolskoye\n",
      "Processing Record240: lagoa\n",
      "Processing Record241: pyu\n",
      "Processing Record242: luyang\n",
      "Processing Record243: mayumba\n",
      "Processing Record244: college\n",
      "Processing Record245: pimentel\n",
      "Processing Record246: bela\n",
      "Processing Record247: hasaki\n",
      "Processing Record248: livingstonia\n",
      "City is not found. Skip\n",
      "Processing Record250: ilulissat\n",
      "Processing Record251: goldsboro\n",
      "Processing Record252: zhoucheng\n",
      "Processing Record253: san ignacio\n",
      "City is not found. Skip\n",
      "Processing Record255: minab\n",
      "Processing Record256: urumqi\n",
      "Processing Record257: saint-joseph\n",
      "Processing Record258: caravelas\n",
      "Processing Record259: malanje\n",
      "Processing Record260: geraldton\n",
      "Processing Record261: bojnurd\n",
      "Processing Record262: davila\n",
      "Processing Record263: dakar\n",
      "City is not found. Skip\n",
      "City is not found. Skip\n",
      "Processing Record266: olafsvik\n",
      "Processing Record267: atambua\n",
      "Processing Record268: deputatskiy\n",
      "Processing Record269: taltal\n",
      "Processing Record270: casablanca\n",
      "Processing Record271: el alto\n",
      "City is not found. Skip\n",
      "Processing Record273: san carlos de bariloche\n",
      "City is not found. Skip\n",
      "Processing Record275: farafangana\n"
     ]
    },
    {
     "name": "stdout",
     "output_type": "stream",
     "text": [
      "Processing Record276: balabac\n",
      "City is not found. Skip\n",
      "Processing Record278: kalakamati\n",
      "Processing Record279: faanui\n",
      "Processing Record280: port-gentil\n",
      "Processing Record281: mapiripan\n",
      "Processing Record282: kirkkonummi\n",
      "Processing Record283: thinadhoo\n",
      "Processing Record284: florence\n",
      "Processing Record285: kytmanovo\n",
      "Processing Record286: shache\n",
      "Processing Record287: vilyuysk\n",
      "Processing Record288: mackenzie\n",
      "Processing Record289: port macquarie\n",
      "Processing Record290: gushikawa\n",
      "Processing Record291: erenhot\n",
      "Processing Record292: alugan\n",
      "Processing Record293: port hawkesbury\n",
      "Processing Record294: jalor\n",
      "Processing Record295: maceio\n",
      "Processing Record296: shenzhen\n",
      "Processing Record297: saint-augustin\n",
      "Processing Record298: waitati\n",
      "Processing Record299: talnakh\n",
      "Processing Record300: formosa do rio preto\n",
      "Processing Record301: esperance\n",
      "Processing Record302: tsabong\n",
      "Processing Record303: darnah\n",
      "Processing Record304: fairhope\n",
      "Processing Record305: pangai\n",
      "Processing Record306: kyabram\n",
      "Processing Record307: valdivia\n",
      "Processing Record308: manjeshwar\n",
      "Processing Record309: marrakesh\n",
      "Processing Record310: staryy nadym\n",
      "Processing Record311: nanortalik\n",
      "Processing Record312: damghan\n",
      "Processing Record313: cayenne\n",
      "Processing Record314: isangel\n",
      "Processing Record315: mendi\n",
      "Processing Record316: cherskiy\n",
      "Processing Record317: kristiinankaupunki\n",
      "Processing Record318: miyoshi\n",
      "Processing Record319: khandyga\n",
      "Processing Record320: pisco\n",
      "Processing Record321: wagar\n",
      "Processing Record322: rzeszow\n",
      "Processing Record323: pangnirtung\n",
      "Processing Record324: ust-nera\n",
      "Processing Record325: ilo\n",
      "Processing Record326: puteyets\n",
      "Processing Record327: punto fijo\n",
      "Processing Record328: namatanai\n",
      "Processing Record329: hualmay\n",
      "Processing Record330: akyab\n",
      "Processing Record331: bone\n",
      "City is not found. Skip\n",
      "Processing Record333: lubawa\n",
      "Processing Record334: del pilar\n",
      "Processing Record335: kupang\n",
      "Processing Record336: beringovskiy\n",
      "Processing Record337: alyangula\n",
      "Processing Record338: esso\n",
      "Processing Record339: ewa beach\n",
      "Processing Record340: victoria\n",
      "Processing Record341: ambon\n",
      "Processing Record342: naze\n",
      "Processing Record343: harper\n",
      "Processing Record344: santa vitoria do palmar\n",
      "Processing Record345: strezhevoy\n",
      "Processing Record346: atar\n",
      "City is not found. Skip\n",
      "Processing Record348: tual\n",
      "Processing Record349: safranbolu\n",
      "Processing Record350: nishihara\n",
      "City is not found. Skip\n",
      "Processing Record352: nhamunda\n",
      "Processing Record353: sijunjung\n",
      "Processing Record354: stornoway\n",
      "Processing Record355: dzhebariki-khaya\n",
      "Processing Record356: auki\n",
      "Processing Record357: kamenka\n",
      "Processing Record358: hervey bay\n",
      "Processing Record359: nouadhibou\n",
      "Processing Record360: fairbanks\n",
      "Processing Record361: balkhash\n",
      "Processing Record362: unity\n",
      "Processing Record363: tocopilla\n",
      "City is not found. Skip\n",
      "Processing Record365: rexburg\n",
      "Processing Record366: lumphat\n",
      "Processing Record367: katherine\n",
      "Processing Record368: ambilobe\n",
      "Processing Record369: boffa\n",
      "Processing Record370: koslan\n",
      "Processing Record371: kargasok\n",
      "Processing Record372: itarema\n",
      "Processing Record373: srednekolymsk\n",
      "Processing Record374: bokoro\n",
      "Processing Record375: dunkwa\n",
      "Processing Record376: te anau\n",
      "Processing Record377: sinegorskiy\n",
      "Processing Record378: kahului\n",
      "City is not found. Skip\n",
      "Processing Record380: hobyo\n",
      "Processing Record381: mehamn\n",
      "Processing Record382: aklavik\n",
      "Processing Record383: godo\n",
      "Processing Record384: siatista\n",
      "Processing Record385: kieta\n",
      "Processing Record386: arinos\n",
      "Processing Record387: yumen\n",
      "City is not found. Skip\n",
      "Processing Record389: kavieng\n",
      "Processing Record390: sierra vista\n",
      "Processing Record391: calatayud\n",
      "Processing Record392: tayu\n",
      "Processing Record393: lorengau\n",
      "Processing Record394: pangody\n",
      "Processing Record395: bartoszyce\n",
      "Processing Record396: sitka\n",
      "Processing Record397: america dourada\n",
      "City is not found. Skip\n",
      "Processing Record399: novoagansk\n",
      "Processing Record400: lompoc\n",
      "Processing Record401: mantua\n",
      "Processing Record402: nemuro\n",
      "Processing Record403: callaguip\n",
      "Processing Record404: bhadra\n",
      "Processing Record405: iquique\n",
      "Processing Record406: vardo\n",
      "Processing Record407: henties bay\n",
      "Processing Record408: dingle\n",
      "Processing Record409: sao miguel do iguacu\n",
      "Processing Record410: walvis bay\n",
      "Processing Record411: prince george\n",
      "Processing Record412: orlik\n",
      "Processing Record413: iglesias\n",
      "Processing Record414: waingapu\n",
      "Processing Record415: tevaitoa\n",
      "Processing Record416: gravdal\n",
      "Processing Record417: high level\n",
      "Processing Record418: marzuq\n",
      "Processing Record419: umm kaddadah\n",
      "Processing Record420: burgersdorp\n",
      "City is not found. Skip\n",
      "Processing Record422: villa carlos paz\n",
      "Processing Record423: yulara\n",
      "Processing Record424: praia da vitoria\n",
      "Processing Record425: kinablangan\n",
      "Processing Record426: grand-santi\n",
      "Processing Record427: stirion\n",
      "Processing Record428: semey\n",
      "Processing Record429: saurimo\n",
      "Processing Record430: anadyr\n",
      "Processing Record431: mount gambier\n",
      "Processing Record432: naryan-mar\n",
      "Processing Record433: boa vista\n",
      "Processing Record434: lazarev\n",
      "City is not found. Skip\n",
      "Processing Record436: tahta\n",
      "Processing Record437: berdigestyakh\n",
      "Processing Record438: morondava\n",
      "Processing Record439: tiarei\n",
      "Processing Record440: gold coast\n",
      "Processing Record441: morecambe\n",
      "Processing Record442: hammerfest\n",
      "Processing Record443: tromso\n",
      "Processing Record444: haguenau\n",
      "Processing Record445: asau\n",
      "Processing Record446: chernyshevskiy\n",
      "Processing Record447: bindura\n",
      "Processing Record448: markova\n",
      "City is not found. Skip\n",
      "Processing Record450: atherton\n",
      "Processing Record451: morlaix\n",
      "Processing Record452: byumba\n",
      "Processing Record453: kaitangata\n",
      "Processing Record454: fukue\n",
      "Processing Record455: solnechnyy\n",
      "Processing Record456: kloulklubed\n",
      "Processing Record457: sorrento\n",
      "Processing Record458: hay river\n",
      "Processing Record459: petatlan\n",
      "Processing Record460: velasco ibarra\n",
      "Processing Record461: atasu\n",
      "Processing Record462: la ronge\n",
      "Processing Record463: cidreira\n",
      "Processing Record464: millet\n",
      "Processing Record465: verkhoyansk\n",
      "Processing Record466: brooks\n",
      "Processing Record467: birao\n",
      "Processing Record468: ladario\n",
      "Processing Record469: quatre cocos\n",
      "Processing Record470: hamilton\n",
      "Processing Record471: calabozo\n",
      "Processing Record472: katangli\n",
      "Processing Record473: samarai\n",
      "Processing Record474: linxia\n",
      "Processing Record475: warrington\n",
      "Processing Record476: santa isabel do rio negro\n",
      "Processing Record477: santiago del estero\n",
      "Processing Record478: halden\n",
      "Processing Record479: sungaipenuh\n",
      "Processing Record480: constantine\n",
      "Processing Record481: taoudenni\n",
      "Processing Record482: hovd\n",
      "Processing Record483: dubova\n",
      "Processing Record484: wahiawa\n",
      "Processing Record485: santa maria\n",
      "City is not found. Skip\n",
      "Processing Record487: los llanos de aridane\n",
      "Processing Record488: zhigalovo\n",
      "Processing Record489: cosala\n",
      "Processing Record490: aksu\n",
      "Processing Record491: nuuk\n",
      "Processing Record492: new ulm\n",
      "Processing Record493: trinidad\n",
      "Processing Record494: waterloo\n",
      "Processing Record495: xining\n",
      "Processing Record496: civitavecchia\n",
      "Processing Record497: paka\n",
      "Processing Record498: noumea\n",
      "Processing Record499: shakhtinsk\n",
      "Processing Record500: zafarwal\n",
      "Processing Record501: nizhniy odes\n",
      "Processing Record502: buraydah\n",
      "Processing Record503: sangar\n",
      "Processing Record504: chumphon\n",
      "Processing Record505: yarada\n",
      "Processing Record506: shangrao\n",
      "City is not found. Skip\n",
      "Processing Record508: were ilu\n",
      "City is not found. Skip\n",
      "Processing Record510: lakes entrance\n",
      "Processing Record511: san rafael\n",
      "Processing Record512: esmeraldas\n",
      "Processing Record513: tayoltita\n",
      "Processing Record514: santa barbara\n",
      "Processing Record515: santana do livramento\n",
      "Processing Record516: tabou\n",
      "Processing Record517: haines junction\n",
      "Processing Record518: prescott\n",
      "Processing Record519: vestmannaeyjar\n",
      "Processing Record520: sulangan\n",
      "Processing Record521: lang son\n",
      "Processing Record522: rawlins\n",
      "Processing Record523: mangai\n",
      "Processing Record524: banda aceh\n",
      "Processing Record525: san quintin\n",
      "Processing Record526: ilukste\n",
      "Processing Record527: buta\n",
      "Processing Record528: broken hill\n",
      "Processing Record529: butler\n",
      "Processing Record530: wiarton\n",
      "Processing Record531: wuwei\n",
      "Processing Record532: opuwo\n",
      "Processing Record533: kushmurun\n",
      "Processing Record534: naberera\n",
      "Processing Record535: lerwick\n",
      "Processing Record536: chara\n",
      "Processing Record537: carutapera\n",
      "Processing Record538: roebourne\n",
      "Processing Record539: clyde river\n"
     ]
    },
    {
     "name": "stdout",
     "output_type": "stream",
     "text": [
      "Processing Record540: abnub\n",
      "Processing Record541: kushiro\n",
      "Processing Record542: nhulunbuy\n",
      "Processing Record543: inirida\n",
      "Processing Record544: staroye drozhzhanoye\n",
      "Processing Record545: silver city\n",
      "Processing Record546: barretos\n",
      "Processing Record547: livezile\n",
      "Processing Record548: humaita\n",
      "Processing Record549: saint-pierre\n",
      "Processing Record550: oriximina\n",
      "Processing Record551: petropavlovsk-kamchatskiy\n",
      "Processing Record552: koutiala\n",
      "Processing Record553: maningrida\n",
      "Processing Record554: svetlogorsk\n",
      "Processing Record555: huinan\n",
      "Processing Record556: ichnya\n",
      "Processing Record557: jizan\n",
      "City is not found. Skip\n",
      "Processing Record559: itupiranga\n",
      "Processing Record560: guder\n",
      "Processing Record561: laguna\n",
      "Processing Record562: havre-saint-pierre\n",
      "Processing Record563: jumla\n",
      "Processing Record564: ust-kuyga\n",
      "Processing Record565: la grande\n",
      "Processing Record566: kyabe\n",
      "Processing Record567: mangan\n",
      "Processing Record568: pinawa\n",
      "Processing Record569: youghal\n",
      "Processing Record570: kamennomostskiy\n",
      "Processing Record571: kalianget\n",
      "Processing Record572: inhambane\n",
      "Processing Record573: tlaxco\n",
      "Processing Record574: olga\n",
      "Processing Record575: labuhan\n",
      "Processing Record576: abu dhabi\n",
      "Processing Record577: moose factory\n",
      "Processing Record578: gobabis\n",
      "Processing Record579: lubaczow\n",
      "Processing Record580: porbandar\n",
      "Processing Record581: grand gaube\n",
      "Processing Record582: sibolga\n",
      "Processing Record583: guerrero negro\n",
      "Processing Record584: umkomaas\n",
      "Processing Record585: kathmandu\n",
      "Processing Record586: tigre\n",
      "Processing Record587: flin flon\n",
      "Processing Record588: san joaquin\n",
      "Processing Record589: istok\n",
      "Processing Record590: weston\n",
      "Processing Record591: jalingo\n",
      "Processing Record592: north branch\n",
      "Processing Record593: garowe\n",
      "Processing Record594: rudbar\n",
      "Processing Record595: lingao\n",
      "City is not found. Skip\n",
      "City is not found. Skip\n",
      "Processing Record598: kharitonovo\n",
      "Processing Record599: tateyama\n",
      "Processing Record600: batemans bay\n",
      "Processing Record601: brae\n",
      "Processing Record602: tongliao\n",
      "Processing Record603: gaogou\n",
      "Processing Record604: aykhal\n",
      "Processing Record605: kungurtug\n",
      "Processing Record606: padang\n",
      "Processing Record607: trairi\n",
      "Processing Record608: kalach-na-donu\n",
      "Processing Record609: vestmanna\n",
      "Processing Record610: poum\n",
      "City is not found. Skip\n",
      "Processing Record612: boueni\n",
      "Processing Record613: sosnovo-ozerskoye\n",
      "Processing Record614: toppenish\n",
      "Processing Record615: belmonte\n",
      "Processing Record616: maneadero\n",
      "Processing Record617: belyy yar\n",
      "Processing Record618: tupik\n",
      "Processing Record619: palana\n",
      "Processing Record620: basco\n",
      "Processing Record621: dafeng\n",
      "Processing Record622: hengyang\n",
      "Processing Record623: barcelos\n"
     ]
    }
   ],
   "source": [
    "#url = url = \"http://api.openweathermap.org/data/2.5/weather?\"\n",
    "#units = \"imperial\"\n",
    "#query_url = f\"{url}appid={weather_api_key}&units={units}q=\"\n",
    "\n",
    "\n",
    "#list \n",
    "record = 0\n",
    "city_nm = []\n",
    "cloudiness = []\n",
    "country = []\n",
    "humidity = []\n",
    "lat = []\n",
    "lng = []\n",
    "max_temp = []\n",
    "wind_speed = []\n",
    "\n",
    "\n",
    "for city in cities:\n",
    "    record += 1\n",
    "    url = url = \"http://api.openweathermap.org/data/2.5/weather?\"\n",
    "    units = \"imperial\"\n",
    "    query_url = url + 'appid='+ weather_api_key + '&units=imperial' + \"&q=\" + city\n",
    "    response = requests.get(query_url)\n",
    "    city_json = response.json()\n",
    "    if (str(response) =='<Response [200]>'):\n",
    "        print(f\"Processing Record{record}: {city}\")\n",
    "        city_nm.append(city_json[\"name\"])\n",
    "        cloudiness.append(city_json[\"clouds\"][\"all\"])\n",
    "        country.append(city_json[\"sys\"][\"country\"])\n",
    "        humidity.append(city_json[\"main\"][\"humidity\"])\n",
    "        lat.append(city_json[\"coord\"][\"lat\"])\n",
    "        lng.append(city_json[\"coord\"][\"lon\"])\n",
    "        max_temp.append(city_json[\"main\"][\"temp_max\"])\n",
    "        wind_speed.append(city_json[\"wind\"][\"speed\"]) \n",
    "    else:\n",
    "              print(\"City is not found. Skip\")\n",
    "              "
   ]
  },
  {
   "cell_type": "markdown",
   "metadata": {},
   "source": [
    "### Convert Raw Data to DataFrame\n",
    "* Export the city data into a .csv.\n",
    "* Display the DataFrame"
   ]
  },
  {
   "cell_type": "code",
   "execution_count": 10,
   "metadata": {},
   "outputs": [],
   "source": [
    "weather_dict = {'City':city_nm,\n",
    "               'Cloudiness':cloudiness,\n",
    "               'Country':country,\n",
    "               'Humidity':humidity,\n",
    "               'Lat':lat,\n",
    "               'Lng':lng,\n",
    "               'Max Temp': max_temp,\n",
    "               'Wind Speed':wind_speed}\n",
    "weatherDf = pd.DataFrame(weather_dict)\n"
   ]
  },
  {
   "cell_type": "code",
   "execution_count": 16,
   "metadata": {},
   "outputs": [
    {
     "data": {
      "text/plain": [
       "City          577\n",
       "Cloudiness    577\n",
       "Country       577\n",
       "Humidity      577\n",
       "Lat           577\n",
       "Lng           577\n",
       "Max Temp      577\n",
       "Wind Speed    577\n",
       "dtype: int64"
      ]
     },
     "execution_count": 16,
     "metadata": {},
     "output_type": "execute_result"
    }
   ],
   "source": [
    "city_export = weatherDf.to_csv (output_data_file, index = None, header=True)\n",
    "weatherDf.count()"
   ]
  },
  {
   "cell_type": "code",
   "execution_count": 7,
   "metadata": {},
   "outputs": [
    {
     "data": {
      "text/html": [
       "<div>\n",
       "<style scoped>\n",
       "    .dataframe tbody tr th:only-of-type {\n",
       "        vertical-align: middle;\n",
       "    }\n",
       "\n",
       "    .dataframe tbody tr th {\n",
       "        vertical-align: top;\n",
       "    }\n",
       "\n",
       "    .dataframe thead th {\n",
       "        text-align: right;\n",
       "    }\n",
       "</style>\n",
       "<table border=\"1\" class=\"dataframe\">\n",
       "  <thead>\n",
       "    <tr style=\"text-align: right;\">\n",
       "      <th></th>\n",
       "      <th>City</th>\n",
       "      <th>Cloudiness</th>\n",
       "      <th>Country</th>\n",
       "      <th>Humidity</th>\n",
       "      <th>Lat</th>\n",
       "      <th>Lng</th>\n",
       "      <th>Max Temp</th>\n",
       "      <th>Wind Speed</th>\n",
       "    </tr>\n",
       "  </thead>\n",
       "  <tbody>\n",
       "    <tr>\n",
       "      <th>0</th>\n",
       "      <td>Conde</td>\n",
       "      <td>75</td>\n",
       "      <td>BR</td>\n",
       "      <td>74</td>\n",
       "      <td>-7.26</td>\n",
       "      <td>-34.91</td>\n",
       "      <td>82.40</td>\n",
       "      <td>13.87</td>\n",
       "    </tr>\n",
       "    <tr>\n",
       "      <th>1</th>\n",
       "      <td>New Norfolk</td>\n",
       "      <td>99</td>\n",
       "      <td>AU</td>\n",
       "      <td>64</td>\n",
       "      <td>-42.78</td>\n",
       "      <td>147.06</td>\n",
       "      <td>55.99</td>\n",
       "      <td>1.01</td>\n",
       "    </tr>\n",
       "    <tr>\n",
       "      <th>2</th>\n",
       "      <td>Busselton</td>\n",
       "      <td>0</td>\n",
       "      <td>AU</td>\n",
       "      <td>77</td>\n",
       "      <td>-33.65</td>\n",
       "      <td>115.33</td>\n",
       "      <td>54.00</td>\n",
       "      <td>1.01</td>\n",
       "    </tr>\n",
       "    <tr>\n",
       "      <th>3</th>\n",
       "      <td>Avera</td>\n",
       "      <td>90</td>\n",
       "      <td>US</td>\n",
       "      <td>66</td>\n",
       "      <td>33.19</td>\n",
       "      <td>-82.53</td>\n",
       "      <td>48.20</td>\n",
       "      <td>11.41</td>\n",
       "    </tr>\n",
       "    <tr>\n",
       "      <th>4</th>\n",
       "      <td>Nome</td>\n",
       "      <td>90</td>\n",
       "      <td>US</td>\n",
       "      <td>92</td>\n",
       "      <td>64.50</td>\n",
       "      <td>-165.41</td>\n",
       "      <td>19.40</td>\n",
       "      <td>18.34</td>\n",
       "    </tr>\n",
       "  </tbody>\n",
       "</table>\n",
       "</div>"
      ],
      "text/plain": [
       "          City  Cloudiness Country  Humidity    Lat     Lng  Max Temp  \\\n",
       "0        Conde          75      BR        74  -7.26  -34.91     82.40   \n",
       "1  New Norfolk          99      AU        64 -42.78  147.06     55.99   \n",
       "2    Busselton           0      AU        77 -33.65  115.33     54.00   \n",
       "3        Avera          90      US        66  33.19  -82.53     48.20   \n",
       "4         Nome          90      US        92  64.50 -165.41     19.40   \n",
       "\n",
       "   Wind Speed  \n",
       "0       13.87  \n",
       "1        1.01  \n",
       "2        1.01  \n",
       "3       11.41  \n",
       "4       18.34  "
      ]
     },
     "execution_count": 7,
     "metadata": {},
     "output_type": "execute_result"
    }
   ],
   "source": [
    "weatherDf.head()"
   ]
  },
  {
   "cell_type": "markdown",
   "metadata": {},
   "source": [
    "## Inspect the data and remove the cities where the humidity > 100%.\n",
    "----\n",
    "Skip this step if there are no cities that have humidity > 100%. "
   ]
  },
  {
   "cell_type": "code",
   "execution_count": null,
   "metadata": {},
   "outputs": [],
   "source": []
  },
  {
   "cell_type": "code",
   "execution_count": null,
   "metadata": {},
   "outputs": [],
   "source": [
    "#  Get the indices of cities that have humidity over 100%.\n"
   ]
  },
  {
   "cell_type": "code",
   "execution_count": null,
   "metadata": {},
   "outputs": [],
   "source": [
    "# Make a new DataFrame equal to the city data to drop all humidity outliers by index.\n",
    "# Passing \"inplace=False\" will make a copy of the city_data DataFrame, which we call \"clean_city_data\".\n"
   ]
  },
  {
   "cell_type": "code",
   "execution_count": null,
   "metadata": {},
   "outputs": [],
   "source": [
    "\n"
   ]
  },
  {
   "cell_type": "markdown",
   "metadata": {},
   "source": [
    "## Plotting the Data\n",
    "* Use proper labeling of the plots using plot titles (including date of analysis) and axes labels.\n",
    "* Save the plotted figures as .pngs."
   ]
  },
  {
   "cell_type": "markdown",
   "metadata": {},
   "source": [
    "## Latitude vs. Temperature Plot"
   ]
  },
  {
   "cell_type": "code",
   "execution_count": 18,
   "metadata": {
    "scrolled": false
   },
   "outputs": [
    {
     "data": {
      "image/png": "[encoded data removed]",
      "text/plain": [
       "<Figure size 432x288 with 1 Axes>"
      ]
     },
     "metadata": {
      "needs_background": "light"
     },
     "output_type": "display_data"
    }
   ],
   "source": [
    "x_values = weatherDf['Lat']\n",
    "y_values = weatherDf['Max Temp']\n",
    "plt.scatter(x_values,y_values)\n",
    "plt.title('Latitude Vs. Temperature')\n",
    "plt.xlabel('Latitude')\n",
    "plt.ylabel('Max Temperature')\n",
    "plt.grid(linestyle = '-', linewidth = 1, alpha = 0.5)\n",
    "plt.savefig(\"../WeatherPy/latvstemp.png\")\n",
    "plt.show()"
   ]
  },
  {
   "cell_type": "code",
   "execution_count": null,
   "metadata": {},
   "outputs": [],
   "source": []
  },
  {
   "cell_type": "markdown",
   "metadata": {},
   "source": [
    "## Latitude vs. Humidity Plot"
   ]
  },
  {
   "cell_type": "code",
   "execution_count": 19,
   "metadata": {},
   "outputs": [
    {
     "data": {
      "image/png": "[encoded data removed]",
      "text/plain": [
       "<Figure size 432x288 with 1 Axes>"
      ]
     },
     "metadata": {
      "needs_background": "light"
     },
     "output_type": "display_data"
    }
   ],
   "source": [
    "x_values = weatherDf['Lat']\n",
    "y_values = weatherDf['Humidity']\n",
    "plt.scatter(x_values,y_values)\n",
    "plt.title('Humidity Vs. Latitude')\n",
    "plt.xlabel('Latitude')\n",
    "plt.ylabel('Humidity')\n",
    "plt.grid(linestyle = '-', linewidth = 1, alpha = 0.5)\n",
    "plt.savefig(\"../WeatherPy/latvshum.png\")\n",
    "\n",
    "plt.show()"
   ]
  },
  {
   "cell_type": "markdown",
   "metadata": {},
   "source": [
    "## Latitude vs. Cloudiness Plot"
   ]
  },
  {
   "cell_type": "code",
   "execution_count": 20,
   "metadata": {},
   "outputs": [
    {
     "data": {
      "image/png": "[encoded data removed]",
      "text/plain": [
       "<Figure size 432x288 with 1 Axes>"
      ]
     },
     "metadata": {
      "needs_background": "light"
     },
     "output_type": "display_data"
    }
   ],
   "source": [
    "x_values = weatherDf['Lat']\n",
    "y_values = weatherDf['Cloudiness']\n",
    "plt.scatter(x_values,y_values)\n",
    "plt.title('Cloudiness Vs. Latitude')\n",
    "plt.xlabel('Latitude')\n",
    "plt.ylabel('Cloudiness')\n",
    "plt.grid(linestyle = '-', linewidth = 1, alpha = 0.5)\n",
    "plt.savefig(\"../WeatherPy/latvscloud.png\")\n",
    "plt.show()"
   ]
  },
  {
   "cell_type": "markdown",
   "metadata": {},
   "source": [
    "## Latitude vs. Wind Speed Plot"
   ]
  },
  {
   "cell_type": "code",
   "execution_count": 22,
   "metadata": {},
   "outputs": [
    {
     "data": {
      "image/png": "[encoded data removed]",
      "text/plain": [
       "<Figure size 432x288 with 1 Axes>"
      ]
     },
     "metadata": {
      "needs_background": "light"
     },
     "output_type": "display_data"
    }
   ],
   "source": [
    "x_values = weatherDf['Lat']\n",
    "y_values = weatherDf['Wind Speed']\n",
    "plt.scatter(x_values,y_values)\n",
    "plt.title('Wind Speed Vs. Latitude')\n",
    "plt.xlabel('Latitude')\n",
    "plt.ylabel('Wind Speed')\n",
    "plt.grid(linestyle = '-', linewidth = 1, alpha = 0.5)\n",
    "plt.savefig(\"../WeatherPy/latvsWS.png\")\n",
    "plt.show()"
   ]
  },
  {
   "cell_type": "markdown",
   "metadata": {},
   "source": []
  },
  {
   "cell_type": "markdown",
   "metadata": {},
   "source": [
    "## Linear Regression"
   ]
  },
  {
   "cell_type": "code",
   "execution_count": 135,
   "metadata": {},
   "outputs": [
    {
     "name": "stdout",
     "output_type": "stream",
     "text": [
      "0      8.328336\n",
      "1      8.516996\n",
      "2      8.492771\n",
      "3      8.448971\n",
      "4      8.716667\n",
      "         ...   \n",
      "557    8.685346\n",
      "558    7.966921\n",
      "559    7.577366\n",
      "560    7.733237\n",
      "561    8.250278\n",
      "Name: Lat, Length: 562, dtype: float64\n"
     ]
    }
   ],
   "source": [
    "(slope, intercept, rvalue, pvalue, stderr) = stats.linregress(x_values, y_values)\n",
    "\n",
    "regress_values = x_values * slope + intercept\n",
    "print(regress_values)"
   ]
  },
  {
   "cell_type": "code",
   "execution_count": 136,
   "metadata": {},
   "outputs": [
    {
     "name": "stdout",
     "output_type": "stream",
     "text": [
      "y = 0.01x +7.98\n"
     ]
    }
   ],
   "source": [
    "line_eq = \"y = \" + str(round(slope,2)) + \"x +\" +str(round(intercept,2))\n",
    "print(line_eq)"
   ]
  },
  {
   "cell_type": "code",
   "execution_count": 24,
   "metadata": {},
   "outputs": [],
   "source": [
    "northern_hem = weatherDf[weatherDf['Lat'] >= 0]\n",
    "southern_hem = weatherDf[weatherDf['Lat'] < 0]"
   ]
  },
  {
   "cell_type": "markdown",
   "metadata": {},
   "source": [
    "####  Northern Hemisphere - Max Temp vs. Latitude Linear Regression"
   ]
  },
  {
   "cell_type": "code",
   "execution_count": 25,
   "metadata": {},
   "outputs": [
    {
     "name": "stdout",
     "output_type": "stream",
     "text": [
      "y = -1.31x +90.52\n",
      "The r-value is: 0.6716898376030823\n"
     ]
    },
    {
     "data": {
      "image/png": "[encoded data removed]",
      "text/plain": [
       "<Figure size 432x288 with 1 Axes>"
      ]
     },
     "metadata": {
      "needs_background": "light"
     },
     "output_type": "display_data"
    }
   ],
   "source": [
    "x_values = northern_hem['Lat']\n",
    "y_values = northern_hem['Max Temp']\n",
    "(slope, intercept, rvalue, pvalue, stderr) = stats.linregress(x_values, y_values)\n",
    "\n",
    "regress_values = x_values * slope + intercept\n",
    "line_eq = \"y = \" + str(round(slope,2)) + \"x +\" +str(round(intercept,2))\n",
    "print(line_eq)\n",
    "\n",
    "plt.scatter(x_values,y_values)\n",
    "plt.plot(x_values,regress_values,\"r-\")\n",
    "\n",
    "# Label plot and annotate the line equation\n",
    "plt.xlabel('Latitude')\n",
    "plt.ylabel('Max Temperature')\n",
    "plt.grid(linestyle = '-', linewidth = 1, alpha = 0.5)\n",
    "plt.annotate(line_eq,(20,15),fontsize=15,color=\"red\")\n",
    "\n",
    "plt.savefig(\"../WeatherPy/NHtempvslat.png\")\n",
    "print(f\"The r-value is: {rvalue**2}\")\n",
    "\n",
    "# Show plot\n",
    "plt.show()\n",
    "\n"
   ]
  },
  {
   "cell_type": "markdown",
   "metadata": {},
   "source": [
    "####  Southern Hemisphere - Max Temp vs. Latitude Linear Regression"
   ]
  },
  {
   "cell_type": "code",
   "execution_count": 26,
   "metadata": {},
   "outputs": [
    {
     "name": "stdout",
     "output_type": "stream",
     "text": [
      "y = 0.43x +82.95\n",
      "The r-value is: 0.3587930386374093\n"
     ]
    },
    {
     "data": {
      "image/png": "[encoded data removed]",
      "text/plain": [
       "<Figure size 432x288 with 1 Axes>"
      ]
     },
     "metadata": {
      "needs_background": "light"
     },
     "output_type": "display_data"
    }
   ],
   "source": [
    "x_values = southern_hem['Lat']\n",
    "y_values = southern_hem['Max Temp']\n",
    "(slope, intercept, rvalue, pvalue, stderr) = stats.linregress(x_values, y_values)\n",
    "\n",
    "regress_values = x_values * slope + intercept\n",
    "line_eq = \"y = \" + str(round(slope,2)) + \"x +\" +str(round(intercept,2))\n",
    "print(line_eq)\n",
    "\n",
    "plt.scatter(x_values,y_values)\n",
    "plt.plot(x_values,regress_values,\"r-\")\n",
    "\n",
    "# Label plot and annotate the line equation\n",
    "plt.xlabel('Latitude')\n",
    "plt.ylabel('Max Temperature')\n",
    "plt.grid(linestyle = '-', linewidth = 1, alpha = 0.5)\n",
    "plt.annotate(line_eq,(20,15),fontsize=15,color=\"red\")\n",
    "plt.savefig(\"../WeatherPy/SHtempvslat.png\")\n",
    "\n",
    "\n",
    "print(f\"The r-value is: {rvalue**2}\")\n",
    "\n",
    "# Show plot\n",
    "plt.show()"
   ]
  },
  {
   "cell_type": "markdown",
   "metadata": {},
   "source": [
    "####  Northern Hemisphere - Humidity (%) vs. Latitude Linear Regression"
   ]
  },
  {
   "cell_type": "code",
   "execution_count": 27,
   "metadata": {},
   "outputs": [
    {
     "name": "stdout",
     "output_type": "stream",
     "text": [
      "y = 0.33x +60.83\n",
      "The r-value is: 0.11270969359026192\n"
     ]
    },
    {
     "data": {
      "image/png": "[encoded data removed]",
      "text/plain": [
       "<Figure size 432x288 with 1 Axes>"
      ]
     },
     "metadata": {
      "needs_background": "light"
     },
     "output_type": "display_data"
    }
   ],
   "source": [
    "x_values = northern_hem['Lat']\n",
    "y_values = northern_hem['Humidity']\n",
    "(slope, intercept, rvalue, pvalue, stderr) = stats.linregress(x_values, y_values)\n",
    "\n",
    "regress_values = x_values * slope + intercept\n",
    "line_eq = \"y = \" + str(round(slope,2)) + \"x +\" +str(round(intercept,2))\n",
    "print(line_eq)\n",
    "\n",
    "plt.scatter(x_values,y_values)\n",
    "plt.plot(x_values,regress_values,\"r-\")\n",
    "\n",
    "# Label plot and annotate the line equation\n",
    "plt.xlabel('Latitude')\n",
    "plt.ylabel('Humidity')\n",
    "plt.grid(linestyle = '-', linewidth = 1, alpha = 0.5)\n",
    "plt.annotate(line_eq,(20,15),fontsize=15,color=\"red\")\n",
    "\n",
    "plt.savefig(\"../WeatherPy/NHlatvshum.png\")\n",
    "print(f\"The r-value is: {rvalue**2}\")\n",
    "\n",
    "# Show plot\n",
    "plt.show()"
   ]
  },
  {
   "cell_type": "markdown",
   "metadata": {},
   "source": [
    "####  Southern Hemisphere - Humidity (%) vs. Latitude Linear Regression"
   ]
  },
  {
   "cell_type": "code",
   "execution_count": 28,
   "metadata": {},
   "outputs": [
    {
     "name": "stdout",
     "output_type": "stream",
     "text": [
      "y = 0.35x +79.04\n",
      "The r-value is: 0.06780204431983522\n"
     ]
    },
    {
     "data": {
      "image/png": "[encoded data removed]",
      "text/plain": [
       "<Figure size 432x288 with 1 Axes>"
      ]
     },
     "metadata": {
      "needs_background": "light"
     },
     "output_type": "display_data"
    }
   ],
   "source": [
    "x_values = southern_hem['Lat']\n",
    "y_values = southern_hem['Humidity']\n",
    "(slope, intercept, rvalue, pvalue, stderr) = stats.linregress(x_values, y_values)\n",
    "\n",
    "regress_values = x_values * slope + intercept\n",
    "line_eq = \"y = \" + str(round(slope,2)) + \"x +\" +str(round(intercept,2))\n",
    "print(line_eq)\n",
    "\n",
    "plt.scatter(x_values,y_values)\n",
    "plt.plot(x_values,regress_values,\"r-\")\n",
    "\n",
    "# Label plot and annotate the line equation\n",
    "plt.xlabel('Latitude')\n",
    "plt.ylabel('Humidity')\n",
    "plt.grid(linestyle = '-', linewidth = 1, alpha = 0.5)\n",
    "plt.annotate(line_eq,(20,15),fontsize=15,color=\"red\")\n",
    "\n",
    "plt.savefig(\"../WeatherPy/SHlatvshum.png\")\n",
    "\n",
    "\n",
    "print(f\"The r-value is: {rvalue**2}\")\n",
    "\n",
    "# Show plot\n",
    "plt.show()"
   ]
  },
  {
   "cell_type": "markdown",
   "metadata": {},
   "source": [
    "####  Northern Hemisphere - Cloudiness (%) vs. Latitude Linear Regression"
   ]
  },
  {
   "cell_type": "code",
   "execution_count": 29,
   "metadata": {},
   "outputs": [
    {
     "name": "stdout",
     "output_type": "stream",
     "text": [
      "y = 0.41x +37.55\n",
      "The r-value is: 0.04058652798694516\n"
     ]
    },
    {
     "data": {
      "image/png": "[encoded data removed]",
      "text/plain": [
       "<Figure size 432x288 with 1 Axes>"
      ]
     },
     "metadata": {
      "needs_background": "light"
     },
     "output_type": "display_data"
    }
   ],
   "source": [
    "x_values = northern_hem['Lat']\n",
    "y_values = northern_hem['Cloudiness']\n",
    "(slope, intercept, rvalue, pvalue, stderr) = stats.linregress(x_values, y_values)\n",
    "\n",
    "regress_values = x_values * slope + intercept\n",
    "line_eq = \"y = \" + str(round(slope,2)) + \"x +\" +str(round(intercept,2))\n",
    "print(line_eq)\n",
    "\n",
    "plt.scatter(x_values,y_values)\n",
    "plt.plot(x_values,regress_values,\"r-\")\n",
    "\n",
    "# Label plot and annotate the line equation\n",
    "plt.xlabel('Latitude')\n",
    "plt.ylabel('Cloudiness')\n",
    "plt.grid(linestyle = '-', linewidth = 1, alpha = 0.5)\n",
    "plt.annotate(line_eq,(20,15),fontsize=15,color=\"red\")\n",
    "\n",
    "plt.savefig(\"../WeatherPy/NHcloudvslat.png\")\n",
    "\n",
    "\n",
    "print(f\"The r-value is: {rvalue**2}\")\n",
    "\n",
    "# Show plot\n",
    "plt.show()"
   ]
  },
  {
   "cell_type": "markdown",
   "metadata": {},
   "source": [
    "####  Southern Hemisphere - Cloudiness (%) vs. Latitude Linear Regression"
   ]
  },
  {
   "cell_type": "code",
   "execution_count": 30,
   "metadata": {},
   "outputs": [
    {
     "name": "stdout",
     "output_type": "stream",
     "text": [
      "y = 0.82x +69.62\n",
      "The r-value is: 0.07987062822790096\n"
     ]
    },
    {
     "data": {
      "image/png": "[encoded data removed]",
      "text/plain": [
       "<Figure size 432x288 with 1 Axes>"
      ]
     },
     "metadata": {
      "needs_background": "light"
     },
     "output_type": "display_data"
    }
   ],
   "source": [
    "x_values = southern_hem['Lat']\n",
    "y_values = southern_hem['Cloudiness']\n",
    "(slope, intercept, rvalue, pvalue, stderr) = stats.linregress(x_values, y_values)\n",
    "\n",
    "regress_values = x_values * slope + intercept\n",
    "line_eq = \"y = \" + str(round(slope,2)) + \"x +\" +str(round(intercept,2))\n",
    "print(line_eq)\n",
    "\n",
    "plt.scatter(x_values,y_values)\n",
    "plt.plot(x_values,regress_values,\"r-\")\n",
    "\n",
    "# Label plot and annotate the line equation\n",
    "plt.xlabel('Latitude')\n",
    "plt.ylabel('Cloudiness')\n",
    "plt.grid(linestyle = '-', linewidth = 1, alpha = 0.5)\n",
    "plt.annotate(line_eq,(20,15),fontsize=15,color=\"red\")\n",
    "\n",
    "plt.savefig(\"../WeatherPy/SHcloudvslat.png\")\n",
    "\n",
    "\n",
    "print(f\"The r-value is: {rvalue**2}\")\n",
    "\n",
    "# Show plot\n",
    "plt.show()"
   ]
  },
  {
   "cell_type": "markdown",
   "metadata": {},
   "source": [
    "####  Northern Hemisphere - Wind Speed (mph) vs. Latitude Linear Regression"
   ]
  },
  {
   "cell_type": "code",
   "execution_count": 31,
   "metadata": {},
   "outputs": [
    {
     "name": "stdout",
     "output_type": "stream",
     "text": [
      "y = 0.03x +7.12\n",
      "The r-value is: 0.007077042298317871\n"
     ]
    },
    {
     "data": {
      "image/png": "[encoded data removed]",
      "text/plain": [
       "<Figure size 432x288 with 1 Axes>"
      ]
     },
     "metadata": {
      "needs_background": "light"
     },
     "output_type": "display_data"
    }
   ],
   "source": [
    "x_values = northern_hem['Lat']\n",
    "y_values = northern_hem['Wind Speed']\n",
    "(slope, intercept, rvalue, pvalue, stderr) = stats.linregress(x_values, y_values)\n",
    "\n",
    "regress_values = x_values * slope + intercept\n",
    "line_eq = \"y = \" + str(round(slope,2)) + \"x +\" +str(round(intercept,2))\n",
    "print(line_eq)\n",
    "\n",
    "plt.scatter(x_values,y_values)\n",
    "plt.plot(x_values,regress_values,\"r-\")\n",
    "\n",
    "# Label plot and annotate the line equation\n",
    "plt.xlabel('Latitude')\n",
    "plt.ylabel('Wind Speed')\n",
    "plt.grid(linestyle = '-', linewidth = 1, alpha = 0.5)\n",
    "plt.annotate(line_eq,(20,15),fontsize=15,color=\"red\")\n",
    "\n",
    "plt.savefig(\"../WeatherPy/NHWSvslat.png\")\n",
    "\n",
    "\n",
    "print(f\"The r-value is: {rvalue**2}\")\n",
    "\n",
    "# Show plot\n",
    "plt.show()"
   ]
  },
  {
   "cell_type": "markdown",
   "metadata": {},
   "source": [
    "####  Southern Hemisphere - Wind Speed (mph) vs. Latitude Linear Regression"
   ]
  },
  {
   "cell_type": "code",
   "execution_count": 32,
   "metadata": {},
   "outputs": [
    {
     "name": "stdout",
     "output_type": "stream",
     "text": [
      "y = -0.19x +5.83\n",
      "The r-value is: 0.11591086745673351\n"
     ]
    },
    {
     "data": {
      "image/png": "[encoded data removed]",
      "text/plain": [
       "<Figure size 432x288 with 1 Axes>"
      ]
     },
     "metadata": {
      "needs_background": "light"
     },
     "output_type": "display_data"
    }
   ],
   "source": [
    "x_values = southern_hem['Lat']\n",
    "y_values = southern_hem['Wind Speed']\n",
    "(slope, intercept, rvalue, pvalue, stderr) = stats.linregress(x_values, y_values)\n",
    "\n",
    "regress_values = x_values * slope + intercept\n",
    "line_eq = \"y = \" + str(round(slope,2)) + \"x +\" +str(round(intercept,2))\n",
    "print(line_eq)\n",
    "\n",
    "plt.scatter(x_values,y_values)\n",
    "plt.plot(x_values,regress_values,\"r-\")\n",
    "\n",
    "# Label plot and annotate the line equation\n",
    "plt.xlabel('Latitude')\n",
    "plt.ylabel('Wind Speed')\n",
    "plt.grid(linestyle = '-', linewidth = 1, alpha = 0.5)\n",
    "plt.annotate(line_eq,(20,15),fontsize=15,color=\"red\")\n",
    "\n",
    "plt.savefig(\"../WeatherPy/SHWSvslat.png\")\n",
    "\n",
    "\n",
    "print(f\"The r-value is: {rvalue**2}\")\n",
    "\n",
    "# Show plot\n",
    "plt.show()"
   ]
  },
  {
   "cell_type": "code",
   "execution_count": null,
   "metadata": {},
   "outputs": [],
   "source": []
  }
 ],
 "metadata": {
  "anaconda-cloud": {},
  "kernel_info": {
   "name": "python3"
  },
  "kernelspec": {
   "display_name": "Python [conda env:.conda-PythonData]*",
   "language": "python",
   "name": "myenv"
  },
  "language_info": {
   "codemirror_mode": {
    "name": "ipython",
    "version": 3
   },
   "file_extension": ".py",
   "mimetype": "text/x-python",
   "name": "python",
   "nbconvert_exporter": "python",
   "pygments_lexer": "ipython3",
   "version": "3.8.5"
  },
  "latex_envs": {
   "LaTeX_envs_menu_present": true,
   "autoclose": false,
   "autocomplete": true,
   "bibliofile": "biblio.bib",
   "cite_by": "apalike",
   "current_citInitial": 1,
   "eqLabelWithNumbers": true,
   "eqNumInitial": 1,
   "hotkeys": {
    "equation": "Ctrl-E",
    "itemize": "Ctrl-I"
   },
   "labels_anchors": false,
   "latex_user_defs": false,
   "report_style_numbering": false,
   "user_envs_cfg": false
  },
  "nteract": {
   "version": "0.12.3"
  }
 },
 "nbformat": 4,
 "nbformat_minor": 2
}
