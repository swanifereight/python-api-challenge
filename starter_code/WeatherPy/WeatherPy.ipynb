{
 "cells": [
  {
   "cell_type": "markdown",
   "metadata": {},
   "source": [
    "# WeatherPy\n",
    "----\n",
    "\n",
    "#### Note\n",
    "* Instructions have been included for each segment. You do not have to follow them exactly, but they are included to help you think through the steps."
   ]
  },
  {
   "cell_type": "code",
   "execution_count": 134,
   "metadata": {
    "scrolled": true
   },
   "outputs": [],
   "source": [
    "# Dependencies and Setup\n",
    "import matplotlib.pyplot as plt\n",
    "import pandas as pd\n",
    "import numpy as np\n",
    "import requests\n",
    "import time\n",
    "from scipy.stats import linregress\n",
    "from scipy import stats\n",
    "\n",
    "# Import API key\n",
    "from api_keys import weather_api_key\n",
    "\n",
    "# Incorporated citipy to determine city based on latitude and longitude\n",
    "from citipy import citipy\n",
    "\n",
    "# Output File (CSV)\n",
    "output_data_file = \"../starter_code/cities.csv\"\n",
    "\n",
    "# Range of latitudes and longitudes\n",
    "lat_range = (-90, 90)\n",
    "lng_range = (-180, 180)"
   ]
  },
  {
   "cell_type": "markdown",
   "metadata": {},
   "source": [
    "## Generate Cities List"
   ]
  },
  {
   "cell_type": "code",
   "execution_count": 113,
   "metadata": {},
   "outputs": [
    {
     "data": {
      "text/plain": [
       "610"
      ]
     },
     "execution_count": 113,
     "metadata": {},
     "output_type": "execute_result"
    }
   ],
   "source": [
    "# List for holding lat_lngs and cities\n",
    "lat_lngs = []\n",
    "cities = []\n",
    "\n",
    "# Create a set of random lat and lng combinations\n",
    "lats = np.random.uniform(lat_range[0], lat_range[1], size=1500)\n",
    "lngs = np.random.uniform(lng_range[0], lng_range[1], size=1500)\n",
    "lat_lngs = zip(lats, lngs)\n",
    "\n",
    "# Identify nearest city for each lat, lng combination\n",
    "for lat_lng in lat_lngs:\n",
    "    city = citipy.nearest_city(lat_lng[0], lat_lng[1]).city_name\n",
    "    \n",
    "    # If the city is unique, then add it to a our cities list\n",
    "    if city not in cities:\n",
    "        cities.append(city)\n",
    "\n",
    "# Print the city count to confirm sufficient count\n",
    "len(cities)\n",
    "\n"
   ]
  },
  {
   "cell_type": "markdown",
   "metadata": {},
   "source": [
    "### Perform API Calls\n",
    "* Perform a weather check on each city using a series of successive API calls.\n",
    "* Include a print log of each city as it'sbeing processed (with the city number and city name).\n"
   ]
  },
  {
   "cell_type": "code",
   "execution_count": 106,
   "metadata": {
    "scrolled": true
   },
   "outputs": [
    {
     "name": "stdout",
     "output_type": "stream",
     "text": [
      "Processing Record1: los llanos de aridane\n",
      "Processing Record2: shelburne\n",
      "Processing Record3: jamestown\n",
      "Processing Record4: ribeira grande\n",
      "Processing Record5: brae\n",
      "Processing Record6: lovozero\n",
      "Processing Record7: valdivia\n",
      "Processing Record8: rikitea\n",
      "Processing Record9: arraial do cabo\n",
      "Processing Record10: geraldton\n",
      "Processing Record11: kiunga\n",
      "Processing Record12: mar del plata\n",
      "Processing Record13: longyearbyen\n",
      "Processing Record14: ushuaia\n",
      "Processing Record15: poyarkovo\n",
      "Processing Record16: porto novo\n",
      "Processing Record17: mahebourg\n",
      "Processing Record18: qaanaaq\n",
      "Processing Record19: beringovskiy\n",
      "Processing Record20: aklavik\n",
      "Processing Record21: dikson\n",
      "Processing Record22: puerto ayora\n",
      "Processing Record23: vaini\n",
      "Processing Record24: hobart\n",
      "City is not found. Skip\n",
      "Processing Record26: provideniya\n",
      "Processing Record27: hilo\n",
      "Processing Record28: vao\n",
      "Processing Record29: albany\n",
      "Processing Record30: tuktoyaktuk\n",
      "Processing Record31: oranjemund\n",
      "Processing Record32: butaritari\n",
      "Processing Record33: khatanga\n",
      "Processing Record34: atuona\n",
      "Processing Record35: avarua\n",
      "Processing Record36: nantucket\n",
      "Processing Record37: puerto baquerizo moreno\n",
      "Processing Record38: ponta do sol\n",
      "Processing Record39: tanout\n",
      "Processing Record40: bambous virieux\n",
      "Processing Record41: east london\n",
      "Processing Record42: meadow lake\n",
      "Processing Record43: broome\n",
      "Processing Record44: yellowknife\n",
      "Processing Record45: punta arenas\n",
      "City is not found. Skip\n",
      "Processing Record47: namatanai\n",
      "Processing Record48: ilulissat\n",
      "Processing Record49: georgetown\n",
      "Processing Record50: saint george\n",
      "Processing Record51: bengkulu\n",
      "Processing Record52: lebu\n",
      "Processing Record53: totness\n",
      "Processing Record54: akyab\n",
      "Processing Record55: kaitangata\n",
      "Processing Record56: toktogul\n",
      "Processing Record57: mataura\n",
      "Processing Record58: ancud\n",
      "Processing Record59: kapaa\n",
      "Processing Record60: yinchuan\n",
      "Processing Record61: saint-philippe\n",
      "Processing Record62: yulara\n",
      "Processing Record63: port alfred\n",
      "Processing Record64: naron\n",
      "Processing Record65: faanui\n",
      "Processing Record66: upernavik\n",
      "Processing Record67: benxi\n",
      "Processing Record68: tigil\n",
      "Processing Record69: nikolskoye\n",
      "Processing Record70: bonthe\n",
      "Processing Record71: utrera\n",
      "Processing Record72: kurchum\n",
      "City is not found. Skip\n",
      "Processing Record74: petranka\n",
      "Processing Record75: asau\n",
      "Processing Record76: bethel\n",
      "Processing Record77: talnakh\n",
      "Processing Record78: qostanay\n",
      "Processing Record79: sattahip\n",
      "Processing Record80: tasiilaq\n",
      "Processing Record81: bredasdorp\n",
      "Processing Record82: iqaluit\n",
      "Processing Record83: xining\n",
      "Processing Record84: allada\n",
      "Processing Record85: olafsvik\n",
      "Processing Record86: busselton\n",
      "Processing Record87: areosa\n",
      "Processing Record88: udachnyy\n",
      "Processing Record89: zhangye\n",
      "Processing Record90: santa cruz\n",
      "Processing Record91: saint-pierre\n",
      "Processing Record92: sambava\n",
      "Processing Record93: staryy nadym\n",
      "Processing Record94: villa guerrero\n",
      "Processing Record95: saint-augustin\n",
      "Processing Record96: kruisfontein\n",
      "Processing Record97: castro\n",
      "Processing Record98: ravar\n",
      "Processing Record99: port elizabeth\n",
      "City is not found. Skip\n",
      "Processing Record101: codrington\n",
      "Processing Record102: bandarbeyla\n",
      "Processing Record103: daru\n",
      "Processing Record104: narsaq\n",
      "Processing Record105: lokot\n",
      "Processing Record106: constitucion\n",
      "Processing Record107: linxia\n",
      "Processing Record108: elbrus\n",
      "Processing Record109: korla\n",
      "Processing Record110: carnarvon\n",
      "Processing Record111: bluff\n",
      "Processing Record112: fairbanks\n",
      "Processing Record113: irituia\n",
      "Processing Record114: abu samrah\n",
      "Processing Record115: kununurra\n",
      "Processing Record116: esna\n",
      "City is not found. Skip\n",
      "Processing Record118: hai duong\n",
      "Processing Record119: cape town\n",
      "Processing Record120: vila velha\n",
      "Processing Record121: kodiak\n",
      "Processing Record122: victoria\n",
      "Processing Record123: clyde river\n",
      "Processing Record124: itarema\n",
      "Processing Record125: fort nelson\n",
      "Processing Record126: fortuna\n",
      "Processing Record127: bathsheba\n",
      "Processing Record128: kuala terengganu\n",
      "Processing Record129: acarau\n",
      "Processing Record130: hithadhoo\n",
      "Processing Record131: tiksi\n",
      "City is not found. Skip\n",
      "Processing Record133: canico\n",
      "Processing Record134: nizhniy tagil\n",
      "Processing Record135: dyersburg\n",
      "City is not found. Skip\n",
      "Processing Record137: kerchevskiy\n",
      "Processing Record138: hobyo\n",
      "Processing Record139: chokurdakh\n",
      "Processing Record140: tshela\n",
      "Processing Record141: port lavaca\n",
      "Processing Record142: yerbogachen\n",
      "Processing Record143: pringsewu\n",
      "Processing Record144: hamilton\n",
      "Processing Record145: pocone\n",
      "City is not found. Skip\n",
      "Processing Record147: lichinga\n",
      "Processing Record148: zalantun\n",
      "Processing Record149: husavik\n",
      "City is not found. Skip\n",
      "Processing Record151: kavieng\n",
      "Processing Record152: andenes\n",
      "City is not found. Skip\n",
      "Processing Record154: cabo san lucas\n",
      "City is not found. Skip\n",
      "Processing Record156: klaksvik\n",
      "Processing Record157: eskisehir\n",
      "Processing Record158: riyadh\n",
      "City is not found. Skip\n",
      "Processing Record160: goba\n",
      "Processing Record161: qarayeri\n",
      "Processing Record162: nova vicosa\n",
      "Processing Record163: saskylakh\n",
      "Processing Record164: esperance\n",
      "City is not found. Skip\n",
      "Processing Record166: berezovyy\n",
      "Processing Record167: salalah\n",
      "City is not found. Skip\n",
      "Processing Record169: new norfolk\n",
      "Processing Record170: kapoeta\n",
      "Processing Record171: srednekolymsk\n",
      "Processing Record172: palmas bellas\n",
      "Processing Record173: wasilla\n",
      "Processing Record174: emerald\n",
      "Processing Record175: pilikwe\n",
      "Processing Record176: hambantota\n",
      "Processing Record177: charters towers\n",
      "Processing Record178: brigantine\n",
      "Processing Record179: presidencia roque saenz pena\n",
      "Processing Record180: boguchany\n",
      "Processing Record181: kuala kangsar\n",
      "Processing Record182: port-gentil\n",
      "Processing Record183: lima\n",
      "Processing Record184: hermanus\n",
      "Processing Record185: cidreira\n",
      "City is not found. Skip\n",
      "Processing Record187: okhotsk\n",
      "City is not found. Skip\n",
      "Processing Record189: skegness\n",
      "Processing Record190: lagoa\n",
      "Processing Record191: mattru\n",
      "Processing Record192: jutai\n",
      "Processing Record193: touros\n",
      "Processing Record194: tanete\n",
      "Processing Record195: saint anthony\n",
      "Processing Record196: piranshahr\n",
      "Processing Record197: pankovka\n",
      "Processing Record198: voznesenye\n",
      "Processing Record199: baloy\n",
      "Processing Record200: vyazniki\n",
      "Processing Record201: akdepe\n",
      "Processing Record202: te anau\n",
      "Processing Record203: nemuro\n",
      "Processing Record204: cockburn town\n",
      "Processing Record205: zyryanskoye\n",
      "Processing Record206: ust-kuyga\n",
      "Processing Record207: guerrero negro\n",
      "Processing Record208: el rusio\n",
      "Processing Record209: cleveland\n",
      "Processing Record210: santa isabel do rio negro\n",
      "Processing Record211: sao felix do xingu\n",
      "Processing Record212: barrow\n",
      "Processing Record213: atakpame\n",
      "Processing Record214: huangpi\n",
      "Processing Record215: ambilobe\n",
      "Processing Record216: marion\n",
      "Processing Record217: khandbari\n",
      "Processing Record218: cobija\n",
      "Processing Record219: lensk\n",
      "Processing Record220: moses lake\n",
      "Processing Record221: petropavlovsk-kamchatskiy\n",
      "City is not found. Skip\n",
      "City is not found. Skip\n",
      "City is not found. Skip\n",
      "Processing Record225: chulman\n",
      "Processing Record226: alofi\n",
      "Processing Record227: garowe\n",
      "Processing Record228: kahului\n",
      "Processing Record229: saldanha\n",
      "Processing Record230: champerico\n",
      "Processing Record231: middle island\n",
      "Processing Record232: chuy\n",
      "Processing Record233: mayo\n",
      "Processing Record234: beyneu\n",
      "Processing Record235: makakilo city\n",
      "Processing Record236: port moresby\n",
      "Processing Record237: tsumeb\n",
      "Processing Record238: kalmunai\n",
      "Processing Record239: pisco\n",
      "Processing Record240: sao jose da coroa grande\n",
      "City is not found. Skip\n",
      "Processing Record242: portland\n",
      "Processing Record243: kabo\n",
      "Processing Record244: axams\n",
      "Processing Record245: hay river\n",
      "Processing Record246: shangrao\n",
      "Processing Record247: riviere-au-renard\n",
      "Processing Record248: rawson\n",
      "Processing Record249: kloulklubed\n",
      "Processing Record250: pevek\n",
      "Processing Record251: paez\n",
      "Processing Record252: archidona\n",
      "Processing Record253: tommot\n",
      "Processing Record254: jimma\n",
      "Processing Record255: bilma\n",
      "City is not found. Skip\n",
      "Processing Record257: vostok\n",
      "Processing Record258: nosy varika\n",
      "Processing Record259: awjilah\n",
      "Processing Record260: berlevag\n",
      "Processing Record261: polunochnoye\n",
      "Processing Record262: luwuk\n",
      "City is not found. Skip\n",
      "Processing Record264: ippy\n",
      "Processing Record265: sivas\n",
      "Processing Record266: maxixe\n",
      "City is not found. Skip\n",
      "City is not found. Skip\n",
      "Processing Record269: poum\n",
      "Processing Record270: lazaro cardenas\n",
      "Processing Record271: naze\n"
     ]
    },
    {
     "name": "stdout",
     "output_type": "stream",
     "text": [
      "Processing Record272: koilas\n",
      "Processing Record273: caravelas\n",
      "Processing Record274: elizabeth city\n",
      "Processing Record275: kemijarvi\n",
      "Processing Record276: sao filipe\n",
      "Processing Record277: chumikan\n",
      "Processing Record278: romilly-sur-seine\n",
      "Processing Record279: chiredzi\n",
      "Processing Record280: ixtapa\n",
      "Processing Record281: arlit\n",
      "Processing Record282: makokou\n",
      "Processing Record283: nizhniy tsasuchey\n",
      "Processing Record284: sonqor\n",
      "Processing Record285: fare\n",
      "City is not found. Skip\n",
      "Processing Record287: rongcheng\n",
      "Processing Record288: morant bay\n",
      "Processing Record289: mouila\n",
      "Processing Record290: coihaique\n",
      "Processing Record291: san cristobal\n",
      "Processing Record292: san lawrenz\n",
      "Processing Record293: bahia honda\n",
      "Processing Record294: jyvaskyla\n",
      "Processing Record295: shimanovsk\n",
      "Processing Record296: salisbury\n",
      "Processing Record297: auki\n",
      "City is not found. Skip\n",
      "Processing Record299: cherskiy\n",
      "Processing Record300: pokrovsk\n",
      "Processing Record301: hasaki\n",
      "City is not found. Skip\n",
      "Processing Record303: shingu\n",
      "Processing Record304: alice springs\n",
      "Processing Record305: grindavik\n",
      "Processing Record306: hami\n",
      "Processing Record307: kushima\n",
      "Processing Record308: port hedland\n",
      "City is not found. Skip\n",
      "Processing Record310: maniitsoq\n",
      "Processing Record311: ouro preto do oeste\n",
      "Processing Record312: sitka\n",
      "Processing Record313: gat\n",
      "Processing Record314: izhma\n",
      "Processing Record315: buin\n",
      "Processing Record316: mastic beach\n",
      "Processing Record317: davila\n",
      "Processing Record318: ossora\n",
      "Processing Record319: talcahuano\n",
      "Processing Record320: pathein\n",
      "Processing Record321: arman\n",
      "Processing Record322: madimba\n",
      "Processing Record323: mahenge\n",
      "Processing Record324: nanortalik\n",
      "Processing Record325: neiafu\n",
      "Processing Record326: homa bay\n",
      "Processing Record327: la rioja\n",
      "Processing Record328: yaring\n",
      "Processing Record329: katsuura\n",
      "Processing Record330: santa cruz de la palma\n",
      "Processing Record331: merauke\n",
      "Processing Record332: port macquarie\n",
      "Processing Record333: nome\n",
      "Processing Record334: vestmannaeyjar\n",
      "Processing Record335: vitim\n",
      "Processing Record336: leningradskiy\n",
      "Processing Record337: richards bay\n",
      "City is not found. Skip\n",
      "Processing Record339: byron bay\n",
      "Processing Record340: norman wells\n",
      "Processing Record341: luderitz\n",
      "Processing Record342: port lincoln\n",
      "Processing Record343: college\n",
      "Processing Record344: batie\n",
      "Processing Record345: namibe\n",
      "Processing Record346: san quintin\n",
      "Processing Record347: kimbe\n",
      "City is not found. Skip\n",
      "Processing Record349: palmas\n",
      "Processing Record350: atar\n",
      "Processing Record351: saint-michel-des-saints\n",
      "Processing Record352: tagusao\n",
      "Processing Record353: klyuchi\n",
      "Processing Record354: schrobenhausen\n",
      "Processing Record355: morondava\n",
      "Processing Record356: manaure\n",
      "Processing Record357: kotka\n",
      "Processing Record358: kirakira\n",
      "Processing Record359: devonport\n",
      "Processing Record360: batagay\n",
      "Processing Record361: tuatapere\n",
      "Processing Record362: haines junction\n",
      "Processing Record363: ureki\n",
      "Processing Record364: talara\n",
      "Processing Record365: lata\n",
      "City is not found. Skip\n",
      "Processing Record367: valle de allende\n",
      "Processing Record368: metro\n",
      "City is not found. Skip\n",
      "Processing Record370: sibu\n",
      "City is not found. Skip\n",
      "City is not found. Skip\n",
      "Processing Record373: padang\n",
      "Processing Record374: nargana\n",
      "Processing Record375: villa rica\n",
      "Processing Record376: pontivy\n",
      "City is not found. Skip\n",
      "Processing Record378: siemiatycze\n",
      "Processing Record379: celestun\n",
      "Processing Record380: bad zwischenahn\n",
      "Processing Record381: idritsa\n",
      "Processing Record382: sabzevar\n",
      "Processing Record383: orlik\n",
      "Processing Record384: pakxan\n",
      "Processing Record385: thinadhoo\n",
      "Processing Record386: noumea\n",
      "Processing Record387: ahuimanu\n",
      "Processing Record388: dakar\n",
      "Processing Record389: tocopilla\n",
      "Processing Record390: mbandaka\n",
      "Processing Record391: tautira\n",
      "Processing Record392: airai\n",
      "Processing Record393: katobu\n",
      "Processing Record394: mitsamiouli\n",
      "Processing Record395: santa flavia\n",
      "Processing Record396: bonfim\n",
      "Processing Record397: shimoda\n",
      "Processing Record398: havoysund\n",
      "Processing Record399: morgan city\n",
      "Processing Record400: tecate\n",
      "Processing Record401: pazaric\n",
      "Processing Record402: barcelona\n",
      "Processing Record403: siyabuswa\n",
      "City is not found. Skip\n",
      "Processing Record405: umm kaddadah\n",
      "Processing Record406: sola\n",
      "Processing Record407: egvekinot\n",
      "Processing Record408: miandrivazo\n",
      "Processing Record409: qui nhon\n",
      "Processing Record410: micheweni\n",
      "Processing Record411: souillac\n",
      "Processing Record412: palauig\n",
      "Processing Record413: kolondieba\n",
      "Processing Record414: gwadar\n",
      "Processing Record415: prado\n",
      "Processing Record416: mashhad\n",
      "Processing Record417: rybnoye\n",
      "Processing Record418: lashio\n",
      "Processing Record419: san rafael\n",
      "Processing Record420: acapulco\n",
      "Processing Record421: del rio\n",
      "Processing Record422: uniara\n",
      "Processing Record423: sakakah\n",
      "Processing Record424: teya\n",
      "Processing Record425: ewa beach\n",
      "Processing Record426: okha\n",
      "Processing Record427: lorengau\n",
      "Processing Record428: labuhan\n",
      "Processing Record429: gubkinskiy\n",
      "Processing Record430: tambura\n",
      "Processing Record431: biak\n",
      "Processing Record432: virginia beach\n",
      "Processing Record433: petauke\n",
      "Processing Record434: malindi\n",
      "Processing Record435: kushiro\n",
      "Processing Record436: contamana\n",
      "Processing Record437: margate\n",
      "Processing Record438: plettenberg bay\n",
      "Processing Record439: ahipara\n",
      "Processing Record440: north bend\n",
      "Processing Record441: puerto penasco\n",
      "Processing Record442: marrakesh\n",
      "Processing Record443: parana\n",
      "City is not found. Skip\n",
      "Processing Record445: gidole\n",
      "Processing Record446: exeter\n",
      "Processing Record447: abha\n",
      "Processing Record448: victor harbor\n",
      "Processing Record449: maniwaki\n",
      "Processing Record450: tabas\n",
      "Processing Record451: nizhniy odes\n",
      "Processing Record452: vila franca do campo\n",
      "Processing Record453: snasa\n",
      "Processing Record454: lavrentiya\n",
      "Processing Record455: ostrovnoy\n",
      "Processing Record456: araouane\n",
      "Processing Record457: yaan\n",
      "Processing Record458: ende\n",
      "City is not found. Skip\n",
      "Processing Record460: san pedro\n",
      "Processing Record461: steamboat springs\n",
      "Processing Record462: pilar\n",
      "Processing Record463: kieta\n",
      "Processing Record464: natal\n",
      "Processing Record465: nouadhibou\n",
      "Processing Record466: labuan\n",
      "Processing Record467: amahai\n",
      "Processing Record468: high level\n",
      "Processing Record469: kenai\n",
      "Processing Record470: palestine\n",
      "Processing Record471: sioux lookout\n",
      "Processing Record472: zhifang\n",
      "Processing Record473: concordia\n",
      "Processing Record474: thompson\n",
      "Processing Record475: tartus\n",
      "Processing Record476: rundu\n",
      "Processing Record477: doctor arroyo\n",
      "Processing Record478: bonnyville\n",
      "Processing Record479: chermoz\n",
      "Processing Record480: isangel\n",
      "Processing Record481: lompoc\n",
      "Processing Record482: port blair\n",
      "Processing Record483: muisne\n",
      "Processing Record484: ciudad bolivar\n",
      "Processing Record485: katangli\n",
      "Processing Record486: krasnoselkup\n",
      "Processing Record487: manggar\n",
      "Processing Record488: jumla\n",
      "Processing Record489: braganca\n",
      "Processing Record490: srandakan\n",
      "Processing Record491: florestopolis\n",
      "City is not found. Skip\n",
      "Processing Record493: gondanglegi\n",
      "Processing Record494: hofn\n",
      "Processing Record495: sao joao da barra\n",
      "City is not found. Skip\n",
      "Processing Record497: kuzino\n",
      "Processing Record498: novyy urengoy\n",
      "Processing Record499: gizo\n",
      "Processing Record500: verkhoyansk\n",
      "Processing Record501: dali\n",
      "Processing Record502: whitehorse\n",
      "Processing Record503: kharan\n",
      "Processing Record504: clocolan\n",
      "Processing Record505: hoopstad\n",
      "Processing Record506: imbituba\n",
      "City is not found. Skip\n",
      "Processing Record508: salta\n",
      "Processing Record509: luanda\n",
      "Processing Record510: poronaysk\n",
      "Processing Record511: mocuba\n",
      "Processing Record512: southbridge\n",
      "Processing Record513: mount gambier\n",
      "Processing Record514: puerto escondido\n",
      "Processing Record515: westerland\n",
      "City is not found. Skip\n",
      "Processing Record517: tromso\n",
      "Processing Record518: miles city\n",
      "Processing Record519: bara\n",
      "Processing Record520: gazojak\n",
      "City is not found. Skip\n",
      "Processing Record522: selty\n",
      "Processing Record523: leh\n",
      "Processing Record524: denpasar\n",
      "Processing Record525: meulaboh\n",
      "Processing Record526: boende\n",
      "Processing Record527: cuamba\n",
      "Processing Record528: axim\n",
      "Processing Record529: lind\n",
      "City is not found. Skip\n",
      "Processing Record531: erzin\n",
      "Processing Record532: paray-le-monial\n",
      "Processing Record533: opuwo\n",
      "Processing Record534: ilembula\n",
      "Processing Record535: altamira\n",
      "Processing Record536: noyabrsk\n",
      "Processing Record537: hirara\n",
      "Processing Record538: ramhormoz\n",
      "Processing Record539: upata\n",
      "Processing Record540: nagato\n"
     ]
    },
    {
     "name": "stdout",
     "output_type": "stream",
     "text": [
      "Processing Record541: esfahan\n",
      "Processing Record542: catania\n",
      "Processing Record543: balikpapan\n",
      "Processing Record544: arganil\n",
      "Processing Record545: gazanjyk\n",
      "Processing Record546: nerchinskiy zavod\n",
      "Processing Record547: balta\n",
      "Processing Record548: obuasi\n",
      "Processing Record549: quatre cocos\n",
      "Processing Record550: flin flon\n",
      "Processing Record551: keningau\n",
      "Processing Record552: gelgaudiskis\n",
      "Processing Record553: boueni\n",
      "Processing Record554: chanute\n",
      "Processing Record555: hanko\n",
      "Processing Record556: pervomayskiy\n",
      "Processing Record557: toledo\n",
      "Processing Record558: costa rica\n",
      "Processing Record559: zilair\n",
      "Processing Record560: mercedes\n",
      "Processing Record561: morwa\n",
      "City is not found. Skip\n",
      "Processing Record563: deniliquin\n",
      "Processing Record564: sept-iles\n",
      "Processing Record565: bima\n",
      "Processing Record566: vanimo\n",
      "Processing Record567: nong khai\n",
      "Processing Record568: garden city\n",
      "Processing Record569: mayumba\n",
      "Processing Record570: dolores\n",
      "Processing Record571: bambanglipuro\n",
      "Processing Record572: la ronge\n",
      "Processing Record573: unai\n",
      "Processing Record574: cape coast\n",
      "Processing Record575: nyurba\n",
      "Processing Record576: siocon\n",
      "Processing Record577: kawalu\n",
      "Processing Record578: saint-francois\n",
      "Processing Record579: belyy yar\n",
      "Processing Record580: oswego\n",
      "Processing Record581: camocim\n",
      "Processing Record582: pleasant point\n",
      "Processing Record583: poopo\n",
      "Processing Record584: ekhabi\n",
      "Processing Record585: cayenne\n",
      "Processing Record586: eureka\n",
      "Processing Record587: tonosho\n",
      "Processing Record588: pangobilian\n",
      "Processing Record589: torbay\n",
      "Processing Record590: novoagansk\n",
      "Processing Record591: inuvik\n",
      "City is not found. Skip\n",
      "Processing Record593: khani\n",
      "Processing Record594: mariel\n",
      "Processing Record595: dunedin\n",
      "Processing Record596: kambove\n",
      "Processing Record597: karratha\n",
      "Processing Record598: aksarka\n",
      "Processing Record599: arrifes\n",
      "Processing Record600: itoman\n",
      "Processing Record601: seydi\n",
      "Processing Record602: dubai\n",
      "Processing Record603: neya\n",
      "Processing Record604: alekseyevsk\n",
      "Processing Record605: sorong\n",
      "Processing Record606: nelson bay\n",
      "City is not found. Skip\n",
      "Processing Record608: cap malheureux\n",
      "City is not found. Skip\n",
      "Processing Record610: zhuhai\n"
     ]
    }
   ],
   "source": [
    "#url = url = \"http://api.openweathermap.org/data/2.5/weather?\"\n",
    "#units = \"imperial\"\n",
    "#query_url = f\"{url}appid={weather_api_key}&units={units}q=\"\n",
    "\n",
    "\n",
    "#list \n",
    "record = 0\n",
    "city_nm = []\n",
    "cloudiness = []\n",
    "country = []\n",
    "humidity = []\n",
    "lat = []\n",
    "lng = []\n",
    "max_temp = []\n",
    "wind_speed = []\n",
    "\n",
    "\n",
    "for city in cities:\n",
    "    record += 1\n",
    "    url = url = \"http://api.openweathermap.org/data/2.5/weather?\"\n",
    "    units = \"imperial\"\n",
    "    query_url = url + 'appid='+ weather_api_key + '&units=imperial' + \"&q=\" + city\n",
    "    response = requests.get(query_url)\n",
    "    city_json = response.json()\n",
    "    if (str(response) =='<Response [200]>'):\n",
    "        print(f\"Processing Record{record}: {city}\")\n",
    "        city_nm.append(city_json[\"name\"])\n",
    "        cloudiness.append(city_json[\"clouds\"][\"all\"])\n",
    "        country.append(city_json[\"sys\"][\"country\"])\n",
    "        humidity.append(city_json[\"main\"][\"humidity\"])\n",
    "        lat.append(city_json[\"coord\"][\"lat\"])\n",
    "        lng.append(city_json[\"coord\"][\"lon\"])\n",
    "        max_temp.append(city_json[\"main\"][\"temp_max\"])\n",
    "        wind_speed.append(city_json[\"wind\"][\"speed\"]) \n",
    "    else:\n",
    "              print(\"City is not found. Skip\")\n",
    "              "
   ]
  },
  {
   "cell_type": "markdown",
   "metadata": {},
   "source": [
    "### Convert Raw Data to DataFrame\n",
    "* Export the city data into a .csv.\n",
    "* Display the DataFrame"
   ]
  },
  {
   "cell_type": "code",
   "execution_count": 126,
   "metadata": {},
   "outputs": [],
   "source": [
    "weather_dict = {'City':city_nm,\n",
    "               'Cloudiness':cloudiness,\n",
    "               'Country':country,\n",
    "               'Humidity':humidity,\n",
    "               'Lat':lat,\n",
    "               'Lng':lng,\n",
    "               'Max Temp': max_temp,\n",
    "               'Wind Speed':wind_speed}\n",
    "weatherDf = pd.DataFrame(weather_dict)\n"
   ]
  },
  {
   "cell_type": "code",
   "execution_count": 127,
   "metadata": {},
   "outputs": [
    {
     "data": {
      "text/plain": [
       "City          562\n",
       "Cloudiness    562\n",
       "Country       562\n",
       "Humidity      562\n",
       "Lat           562\n",
       "Lng           562\n",
       "Max Temp      562\n",
       "Wind Speed    562\n",
       "dtype: int64"
      ]
     },
     "execution_count": 127,
     "metadata": {},
     "output_type": "execute_result"
    }
   ],
   "source": [
    "city_export = weather_df.to_csv (output_data_file, index = None, header=True)\n",
    "weatherDf.count()"
   ]
  },
  {
   "cell_type": "code",
   "execution_count": 128,
   "metadata": {},
   "outputs": [
    {
     "data": {
      "text/html": [
       "<div>\n",
       "<style scoped>\n",
       "    .dataframe tbody tr th:only-of-type {\n",
       "        vertical-align: middle;\n",
       "    }\n",
       "\n",
       "    .dataframe tbody tr th {\n",
       "        vertical-align: top;\n",
       "    }\n",
       "\n",
       "    .dataframe thead th {\n",
       "        text-align: right;\n",
       "    }\n",
       "</style>\n",
       "<table border=\"1\" class=\"dataframe\">\n",
       "  <thead>\n",
       "    <tr style=\"text-align: right;\">\n",
       "      <th></th>\n",
       "      <th>City</th>\n",
       "      <th>Cloudiness</th>\n",
       "      <th>Country</th>\n",
       "      <th>Humidity</th>\n",
       "      <th>Lat</th>\n",
       "      <th>Lng</th>\n",
       "      <th>Max Temp</th>\n",
       "      <th>Wind Speed</th>\n",
       "    </tr>\n",
       "  </thead>\n",
       "  <tbody>\n",
       "    <tr>\n",
       "      <th>0</th>\n",
       "      <td>Los Llanos de Aridane</td>\n",
       "      <td>90</td>\n",
       "      <td>ES</td>\n",
       "      <td>77</td>\n",
       "      <td>28.66</td>\n",
       "      <td>-17.92</td>\n",
       "      <td>64.40</td>\n",
       "      <td>10.29</td>\n",
       "    </tr>\n",
       "    <tr>\n",
       "      <th>1</th>\n",
       "      <td>Shelburne</td>\n",
       "      <td>88</td>\n",
       "      <td>CA</td>\n",
       "      <td>94</td>\n",
       "      <td>44.08</td>\n",
       "      <td>-80.20</td>\n",
       "      <td>27.00</td>\n",
       "      <td>16.02</td>\n",
       "    </tr>\n",
       "    <tr>\n",
       "      <th>2</th>\n",
       "      <td>Jamestown</td>\n",
       "      <td>90</td>\n",
       "      <td>US</td>\n",
       "      <td>68</td>\n",
       "      <td>42.10</td>\n",
       "      <td>-79.24</td>\n",
       "      <td>28.99</td>\n",
       "      <td>16.11</td>\n",
       "    </tr>\n",
       "    <tr>\n",
       "      <th>3</th>\n",
       "      <td>Ribeira Grande</td>\n",
       "      <td>100</td>\n",
       "      <td>PT</td>\n",
       "      <td>79</td>\n",
       "      <td>38.52</td>\n",
       "      <td>-28.70</td>\n",
       "      <td>63.00</td>\n",
       "      <td>33.49</td>\n",
       "    </tr>\n",
       "    <tr>\n",
       "      <th>4</th>\n",
       "      <td>Brae</td>\n",
       "      <td>100</td>\n",
       "      <td>GB</td>\n",
       "      <td>81</td>\n",
       "      <td>60.40</td>\n",
       "      <td>-1.35</td>\n",
       "      <td>48.20</td>\n",
       "      <td>11.41</td>\n",
       "    </tr>\n",
       "  </tbody>\n",
       "</table>\n",
       "</div>"
      ],
      "text/plain": [
       "                    City  Cloudiness Country  Humidity    Lat    Lng  \\\n",
       "0  Los Llanos de Aridane          90      ES        77  28.66 -17.92   \n",
       "1              Shelburne          88      CA        94  44.08 -80.20   \n",
       "2              Jamestown          90      US        68  42.10 -79.24   \n",
       "3         Ribeira Grande         100      PT        79  38.52 -28.70   \n",
       "4                   Brae         100      GB        81  60.40  -1.35   \n",
       "\n",
       "   Max Temp  Wind Speed  \n",
       "0     64.40       10.29  \n",
       "1     27.00       16.02  \n",
       "2     28.99       16.11  \n",
       "3     63.00       33.49  \n",
       "4     48.20       11.41  "
      ]
     },
     "execution_count": 128,
     "metadata": {},
     "output_type": "execute_result"
    }
   ],
   "source": [
    "weatherDf.head()"
   ]
  },
  {
   "cell_type": "markdown",
   "metadata": {},
   "source": [
    "## Inspect the data and remove the cities where the humidity > 100%.\n",
    "----\n",
    "Skip this step if there are no cities that have humidity > 100%. "
   ]
  },
  {
   "cell_type": "code",
   "execution_count": null,
   "metadata": {},
   "outputs": [],
   "source": []
  },
  {
   "cell_type": "code",
   "execution_count": null,
   "metadata": {},
   "outputs": [],
   "source": [
    "#  Get the indices of cities that have humidity over 100%.\n"
   ]
  },
  {
   "cell_type": "code",
   "execution_count": null,
   "metadata": {},
   "outputs": [],
   "source": [
    "# Make a new DataFrame equal to the city data to drop all humidity outliers by index.\n",
    "# Passing \"inplace=False\" will make a copy of the city_data DataFrame, which we call \"clean_city_data\".\n"
   ]
  },
  {
   "cell_type": "code",
   "execution_count": null,
   "metadata": {},
   "outputs": [],
   "source": [
    "\n"
   ]
  },
  {
   "cell_type": "markdown",
   "metadata": {},
   "source": [
    "## Plotting the Data\n",
    "* Use proper labeling of the plots using plot titles (including date of analysis) and axes labels.\n",
    "* Save the plotted figures as .pngs."
   ]
  },
  {
   "cell_type": "markdown",
   "metadata": {},
   "source": [
    "## Latitude vs. Temperature Plot"
   ]
  },
  {
   "cell_type": "code",
   "execution_count": 129,
   "metadata": {
    "scrolled": true
   },
   "outputs": [
    {
     "data": {
      "image/png": "[encoded data removed]",
      "text/plain": [
       "<Figure size 432x288 with 1 Axes>"
      ]
     },
     "metadata": {
      "needs_background": "light"
     },
     "output_type": "display_data"
    }
   ],
   "source": [
    "x_values = weatherDf['Lat']\n",
    "y_values = weatherDf['Max Temp']\n",
    "plt.scatter(x_values,y_values)\n",
    "plt.xlabel('Latitude')\n",
    "plt.ylabel('Max Temperature')\n",
    "plt.show()"
   ]
  },
  {
   "cell_type": "markdown",
   "metadata": {},
   "source": [
    "## Latitude vs. Humidity Plot"
   ]
  },
  {
   "cell_type": "code",
   "execution_count": 130,
   "metadata": {},
   "outputs": [
    {
     "data": {
      "image/png": "[encoded data removed]",
      "text/plain": [
       "<Figure size 432x288 with 1 Axes>"
      ]
     },
     "metadata": {
      "needs_background": "light"
     },
     "output_type": "display_data"
    }
   ],
   "source": [
    "x_values = weatherDf['Lat']\n",
    "y_values = weatherDf['Humidity']\n",
    "plt.scatter(x_values,y_values)\n",
    "plt.xlabel('Latitude')\n",
    "plt.ylabel('Humidity')\n",
    "plt.show()"
   ]
  },
  {
   "cell_type": "markdown",
   "metadata": {},
   "source": [
    "## Latitude vs. Cloudiness Plot"
   ]
  },
  {
   "cell_type": "code",
   "execution_count": 131,
   "metadata": {},
   "outputs": [
    {
     "data": {
      "image/png": "[encoded data removed]",
      "text/plain": [
       "<Figure size 432x288 with 1 Axes>"
      ]
     },
     "metadata": {
      "needs_background": "light"
     },
     "output_type": "display_data"
    }
   ],
   "source": [
    "x_values = weatherDf['Lat']\n",
    "y_values = weatherDf['Cloudiness']\n",
    "plt.scatter(x_values,y_values)\n",
    "plt.xlabel('Latitude')\n",
    "plt.ylabel('Cloudiness')\n",
    "plt.show()"
   ]
  },
  {
   "cell_type": "markdown",
   "metadata": {},
   "source": [
    "## Latitude vs. Wind Speed Plot"
   ]
  },
  {
   "cell_type": "code",
   "execution_count": 132,
   "metadata": {},
   "outputs": [
    {
     "data": {
      "image/png": "[encoded data removed]",
      "text/plain": [
       "<Figure size 432x288 with 1 Axes>"
      ]
     },
     "metadata": {
      "needs_background": "light"
     },
     "output_type": "display_data"
    }
   ],
   "source": [
    "x_values = weatherDf['Lat']\n",
    "y_values = weatherDf['Wind Speed']\n",
    "plt.scatter(x_values,y_values)\n",
    "plt.xlabel('Latitude')\n",
    "plt.ylabel('Wind Speed')\n",
    "plt.show()"
   ]
  },
  {
   "cell_type": "markdown",
   "metadata": {},
   "source": [
    "## Linear Regression"
   ]
  },
  {
   "cell_type": "code",
   "execution_count": 135,
   "metadata": {},
   "outputs": [
    {
     "name": "stdout",
     "output_type": "stream",
     "text": [
      "0      8.328336\n",
      "1      8.516996\n",
      "2      8.492771\n",
      "3      8.448971\n",
      "4      8.716667\n",
      "         ...   \n",
      "557    8.685346\n",
      "558    7.966921\n",
      "559    7.577366\n",
      "560    7.733237\n",
      "561    8.250278\n",
      "Name: Lat, Length: 562, dtype: float64\n"
     ]
    }
   ],
   "source": [
    "(slope, intercept, rvalue, pvalue, stderr) = stats.linregress(x_values, y_values)\n",
    "\n",
    "regress_values = x_values * slope + intercept\n",
    "print(regress_values)"
   ]
  },
  {
   "cell_type": "code",
   "execution_count": 136,
   "metadata": {},
   "outputs": [
    {
     "name": "stdout",
     "output_type": "stream",
     "text": [
      "y = 0.01x +7.98\n"
     ]
    }
   ],
   "source": [
    "line_eq = \"y = \" + str(round(slope,2)) + \"x +\" +str(round(intercept,2))\n",
    "print(line_eq)"
   ]
  },
  {
   "cell_type": "code",
   "execution_count": 143,
   "metadata": {},
   "outputs": [],
   "source": [
    "northern_hem = weatherDf[weatherDf['Lat'] >= 0]\n",
    "southern_hem = weatherDf[weatherDf['Lat'] < 0]"
   ]
  },
  {
   "cell_type": "markdown",
   "metadata": {},
   "source": [
    "####  Northern Hemisphere - Max Temp vs. Latitude Linear Regression"
   ]
  },
  {
   "cell_type": "code",
   "execution_count": 144,
   "metadata": {},
   "outputs": [
    {
     "name": "stdout",
     "output_type": "stream",
     "text": [
      "y = -1.31x +89.8\n",
      "The r-value is: 0.7173470795716093\n"
     ]
    },
    {
     "data": {
      "image/png": "[encoded data removed]",
      "text/plain": [
       "<Figure size 432x288 with 1 Axes>"
      ]
     },
     "metadata": {
      "needs_background": "light"
     },
     "output_type": "display_data"
    }
   ],
   "source": [
    "x_values = northern_hem['Lat']\n",
    "y_values = northern_hem['Max Temp']\n",
    "(slope, intercept, rvalue, pvalue, stderr) = stats.linregress(x_values, y_values)\n",
    "\n",
    "regress_values = x_values * slope + intercept\n",
    "line_eq = \"y = \" + str(round(slope,2)) + \"x +\" +str(round(intercept,2))\n",
    "print(line_eq)\n",
    "\n",
    "plt.scatter(x_values,y_values)\n",
    "plt.plot(x_values,regress_values,\"r-\")\n",
    "\n",
    "# Label plot and annotate the line equation\n",
    "plt.xlabel('Latitude')\n",
    "plt.ylabel('Max Temperature')\n",
    "plt.annotate(line_eq,(20,15),fontsize=15,color=\"red\")\n",
    "\n",
    "\n",
    "print(f\"The r-value is: {rvalue**2}\")\n",
    "\n",
    "# Show plot\n",
    "plt.show()\n",
    "\n"
   ]
  },
  {
   "cell_type": "markdown",
   "metadata": {},
   "source": [
    "####  Southern Hemisphere - Max Temp vs. Latitude Linear Regression"
   ]
  },
  {
   "cell_type": "code",
   "execution_count": 145,
   "metadata": {},
   "outputs": [
    {
     "name": "stdout",
     "output_type": "stream",
     "text": [
      "y = 0.45x +82.55\n",
      "The r-value is: 0.3130424435733427\n"
     ]
    },
    {
     "data": {
      "image/png": "[encoded data removed]",
      "text/plain": [
       "<Figure size 432x288 with 1 Axes>"
      ]
     },
     "metadata": {
      "needs_background": "light"
     },
     "output_type": "display_data"
    }
   ],
   "source": [
    "x_values = southern_hem['Lat']\n",
    "y_values = southern_hem['Max Temp']\n",
    "(slope, intercept, rvalue, pvalue, stderr) = stats.linregress(x_values, y_values)\n",
    "\n",
    "regress_values = x_values * slope + intercept\n",
    "line_eq = \"y = \" + str(round(slope,2)) + \"x +\" +str(round(intercept,2))\n",
    "print(line_eq)\n",
    "\n",
    "plt.scatter(x_values,y_values)\n",
    "plt.plot(x_values,regress_values,\"r-\")\n",
    "\n",
    "# Label plot and annotate the line equation\n",
    "plt.xlabel('Latitude')\n",
    "plt.ylabel('Max Temperature')\n",
    "plt.annotate(line_eq,(20,15),fontsize=15,color=\"red\")\n",
    "\n",
    "\n",
    "print(f\"The r-value is: {rvalue**2}\")\n",
    "\n",
    "# Show plot\n",
    "plt.show()"
   ]
  },
  {
   "cell_type": "markdown",
   "metadata": {},
   "source": [
    "####  Northern Hemisphere - Humidity (%) vs. Latitude Linear Regression"
   ]
  },
  {
   "cell_type": "code",
   "execution_count": 146,
   "metadata": {},
   "outputs": [
    {
     "name": "stdout",
     "output_type": "stream",
     "text": [
      "y = 0.3x +64.29\n",
      "The r-value is: 0.11347070237012247\n"
     ]
    },
    {
     "data": {
      "image/png": "[encoded data removed]",
      "text/plain": [
       "<Figure size 432x288 with 1 Axes>"
      ]
     },
     "metadata": {
      "needs_background": "light"
     },
     "output_type": "display_data"
    }
   ],
   "source": [
    "x_values = northern_hem['Lat']\n",
    "y_values = northern_hem['Humidity']\n",
    "(slope, intercept, rvalue, pvalue, stderr) = stats.linregress(x_values, y_values)\n",
    "\n",
    "regress_values = x_values * slope + intercept\n",
    "line_eq = \"y = \" + str(round(slope,2)) + \"x +\" +str(round(intercept,2))\n",
    "print(line_eq)\n",
    "\n",
    "plt.scatter(x_values,y_values)\n",
    "plt.plot(x_values,regress_values,\"r-\")\n",
    "\n",
    "# Label plot and annotate the line equation\n",
    "plt.xlabel('Latitude')\n",
    "plt.ylabel('Humidity')\n",
    "plt.annotate(line_eq,(20,15),fontsize=15,color=\"red\")\n",
    "\n",
    "\n",
    "print(f\"The r-value is: {rvalue**2}\")\n",
    "\n",
    "# Show plot\n",
    "plt.show()"
   ]
  },
  {
   "cell_type": "markdown",
   "metadata": {},
   "source": [
    "####  Southern Hemisphere - Humidity (%) vs. Latitude Linear Regression"
   ]
  },
  {
   "cell_type": "code",
   "execution_count": 147,
   "metadata": {},
   "outputs": [
    {
     "name": "stdout",
     "output_type": "stream",
     "text": [
      "y = 0.3x +80.96\n",
      "The r-value is: 0.05251795964555511\n"
     ]
    },
    {
     "data": {
      "image/png": "[encoded data removed]",
      "text/plain": [
       "<Figure size 432x288 with 1 Axes>"
      ]
     },
     "metadata": {
      "needs_background": "light"
     },
     "output_type": "display_data"
    }
   ],
   "source": [
    "x_values = southern_hem['Lat']\n",
    "y_values = southern_hem['Humidity']\n",
    "(slope, intercept, rvalue, pvalue, stderr) = stats.linregress(x_values, y_values)\n",
    "\n",
    "regress_values = x_values * slope + intercept\n",
    "line_eq = \"y = \" + str(round(slope,2)) + \"x +\" +str(round(intercept,2))\n",
    "print(line_eq)\n",
    "\n",
    "plt.scatter(x_values,y_values)\n",
    "plt.plot(x_values,regress_values,\"r-\")\n",
    "\n",
    "# Label plot and annotate the line equation\n",
    "plt.xlabel('Latitude')\n",
    "plt.ylabel('Humidity')\n",
    "plt.annotate(line_eq,(20,15),fontsize=15,color=\"red\")\n",
    "\n",
    "\n",
    "print(f\"The r-value is: {rvalue**2}\")\n",
    "\n",
    "# Show plot\n",
    "plt.show()"
   ]
  },
  {
   "cell_type": "markdown",
   "metadata": {},
   "source": [
    "####  Northern Hemisphere - Cloudiness (%) vs. Latitude Linear Regression"
   ]
  },
  {
   "cell_type": "code",
   "execution_count": 148,
   "metadata": {},
   "outputs": [
    {
     "name": "stdout",
     "output_type": "stream",
     "text": [
      "y = 0.63x +24.74\n",
      "The r-value is: 0.10123135264889453\n"
     ]
    },
    {
     "data": {
      "image/png": "[encoded data removed]",
      "text/plain": [
       "<Figure size 432x288 with 1 Axes>"
      ]
     },
     "metadata": {
      "needs_background": "light"
     },
     "output_type": "display_data"
    }
   ],
   "source": [
    "x_values = northern_hem['Lat']\n",
    "y_values = northern_hem['Cloudiness']\n",
    "(slope, intercept, rvalue, pvalue, stderr) = stats.linregress(x_values, y_values)\n",
    "\n",
    "regress_values = x_values * slope + intercept\n",
    "line_eq = \"y = \" + str(round(slope,2)) + \"x +\" +str(round(intercept,2))\n",
    "print(line_eq)\n",
    "\n",
    "plt.scatter(x_values,y_values)\n",
    "plt.plot(x_values,regress_values,\"r-\")\n",
    "\n",
    "# Label plot and annotate the line equation\n",
    "plt.xlabel('Latitude')\n",
    "plt.ylabel('Cloudiness')\n",
    "plt.annotate(line_eq,(20,15),fontsize=15,color=\"red\")\n",
    "\n",
    "\n",
    "print(f\"The r-value is: {rvalue**2}\")\n",
    "\n",
    "# Show plot\n",
    "plt.show()"
   ]
  },
  {
   "cell_type": "markdown",
   "metadata": {},
   "source": [
    "####  Southern Hemisphere - Cloudiness (%) vs. Latitude Linear Regression"
   ]
  },
  {
   "cell_type": "code",
   "execution_count": 149,
   "metadata": {},
   "outputs": [
    {
     "name": "stdout",
     "output_type": "stream",
     "text": [
      "y = 1.2x +76.65\n",
      "The r-value is: 0.1704991544950674\n"
     ]
    },
    {
     "data": {
      "image/png": "[encoded data removed]",
      "text/plain": [
       "<Figure size 432x288 with 1 Axes>"
      ]
     },
     "metadata": {
      "needs_background": "light"
     },
     "output_type": "display_data"
    }
   ],
   "source": [
    "x_values = southern_hem['Lat']\n",
    "y_values = southern_hem['Cloudiness']\n",
    "(slope, intercept, rvalue, pvalue, stderr) = stats.linregress(x_values, y_values)\n",
    "\n",
    "regress_values = x_values * slope + intercept\n",
    "line_eq = \"y = \" + str(round(slope,2)) + \"x +\" +str(round(intercept,2))\n",
    "print(line_eq)\n",
    "\n",
    "plt.scatter(x_values,y_values)\n",
    "plt.plot(x_values,regress_values,\"r-\")\n",
    "\n",
    "# Label plot and annotate the line equation\n",
    "plt.xlabel('Latitude')\n",
    "plt.ylabel('Cloudiness')\n",
    "plt.annotate(line_eq,(20,15),fontsize=15,color=\"red\")\n",
    "\n",
    "\n",
    "print(f\"The r-value is: {rvalue**2}\")\n",
    "\n",
    "# Show plot\n",
    "plt.show()"
   ]
  },
  {
   "cell_type": "markdown",
   "metadata": {},
   "source": [
    "####  Northern Hemisphere - Wind Speed (mph) vs. Latitude Linear Regression"
   ]
  },
  {
   "cell_type": "code",
   "execution_count": 150,
   "metadata": {},
   "outputs": [
    {
     "name": "stdout",
     "output_type": "stream",
     "text": [
      "y = 0.05x +6.65\n",
      "The r-value is: 0.020941493978942956\n"
     ]
    },
    {
     "data": {
      "image/png": "[encoded data removed]",
      "text/plain": [
       "<Figure size 432x288 with 1 Axes>"
      ]
     },
     "metadata": {
      "needs_background": "light"
     },
     "output_type": "display_data"
    }
   ],
   "source": [
    "x_values = northern_hem['Lat']\n",
    "y_values = northern_hem['Wind Speed']\n",
    "(slope, intercept, rvalue, pvalue, stderr) = stats.linregress(x_values, y_values)\n",
    "\n",
    "regress_values = x_values * slope + intercept\n",
    "line_eq = \"y = \" + str(round(slope,2)) + \"x +\" +str(round(intercept,2))\n",
    "print(line_eq)\n",
    "\n",
    "plt.scatter(x_values,y_values)\n",
    "plt.plot(x_values,regress_values,\"r-\")\n",
    "\n",
    "# Label plot and annotate the line equation\n",
    "plt.xlabel('Latitude')\n",
    "plt.ylabel('Wind Speed')\n",
    "plt.annotate(line_eq,(20,15),fontsize=15,color=\"red\")\n",
    "\n",
    "\n",
    "print(f\"The r-value is: {rvalue**2}\")\n",
    "\n",
    "# Show plot\n",
    "plt.show()"
   ]
  },
  {
   "cell_type": "markdown",
   "metadata": {},
   "source": [
    "####  Southern Hemisphere - Wind Speed (mph) vs. Latitude Linear Regression"
   ]
  },
  {
   "cell_type": "code",
   "execution_count": 151,
   "metadata": {},
   "outputs": [
    {
     "name": "stdout",
     "output_type": "stream",
     "text": [
      "y = -0.18x +4.26\n",
      "The r-value is: 0.18107475804347126\n"
     ]
    },
    {
     "data": {
      "image/png": "[encoded data removed]",
      "text/plain": [
       "<Figure size 432x288 with 1 Axes>"
      ]
     },
     "metadata": {
      "needs_background": "light"
     },
     "output_type": "display_data"
    }
   ],
   "source": [
    "x_values = southern_hem['Lat']\n",
    "y_values = southern_hem['Wind Speed']\n",
    "(slope, intercept, rvalue, pvalue, stderr) = stats.linregress(x_values, y_values)\n",
    "\n",
    "regress_values = x_values * slope + intercept\n",
    "line_eq = \"y = \" + str(round(slope,2)) + \"x +\" +str(round(intercept,2))\n",
    "print(line_eq)\n",
    "\n",
    "plt.scatter(x_values,y_values)\n",
    "plt.plot(x_values,regress_values,\"r-\")\n",
    "\n",
    "# Label plot and annotate the line equation\n",
    "plt.xlabel('Latitude')\n",
    "plt.ylabel('Wind Speed')\n",
    "plt.annotate(line_eq,(20,15),fontsize=15,color=\"red\")\n",
    "\n",
    "\n",
    "print(f\"The r-value is: {rvalue**2}\")\n",
    "\n",
    "# Show plot\n",
    "plt.show()"
   ]
  },
  {
   "cell_type": "code",
   "execution_count": null,
   "metadata": {},
   "outputs": [],
   "source": []
  }
 ],
 "metadata": {
  "anaconda-cloud": {},
  "kernel_info": {
   "name": "python3"
  },
  "kernelspec": {
   "display_name": "Python [conda env:.conda-PythonData]*",
   "language": "python",
   "name": "myenv"
  },
  "language_info": {
   "codemirror_mode": {
    "name": "ipython",
    "version": 3
   },
   "file_extension": ".py",
   "mimetype": "text/x-python",
   "name": "python",
   "nbconvert_exporter": "python",
   "pygments_lexer": "ipython3",
   "version": "3.8.5"
  },
  "latex_envs": {
   "LaTeX_envs_menu_present": true,
   "autoclose": false,
   "autocomplete": true,
   "bibliofile": "biblio.bib",
   "cite_by": "apalike",
   "current_citInitial": 1,
   "eqLabelWithNumbers": true,
   "eqNumInitial": 1,
   "hotkeys": {
    "equation": "Ctrl-E",
    "itemize": "Ctrl-I"
   },
   "labels_anchors": false,
   "latex_user_defs": false,
   "report_style_numbering": false,
   "user_envs_cfg": false
  },
  "nteract": {
   "version": "0.12.3"
  }
 },
 "nbformat": 4,
 "nbformat_minor": 2
}
